{
 "cells": [
  {
   "cell_type": "markdown",
   "metadata": {
    "id": "gMrFKjFW2I8q",
    "tags": [
     "pdf-title"
    ]
   },
   "source": [
    "# What's this TensorFlow business?\n",
    "\n",
    "You've written a lot of code in this assignment to provide a whole host of neural network functionality. Dropout, Batch Norm, and 2D convolutions are some of the workhorses of deep learning in computer vision. You've also worked hard to make your code efficient and vectorized.\n",
    "\n",
    "For the last part of this assignment, though, we're going to leave behind your beautiful codebase and instead migrate to one of two popular deep learning frameworks: in this instance, TensorFlow (or PyTorch, if you choose to work with that notebook)."
   ]
  },
  {
   "cell_type": "markdown",
   "metadata": {
    "id": "AfoDYspV2I8r",
    "tags": [
     "pdf-ignore"
    ]
   },
   "source": [
    "#### What is it?\n",
    "TensorFlow is a system for executing computational graphs over Tensor objects, with native support for performing backpropogation for its Variables. In it, we work with Tensors which are n-dimensional arrays analogous to the numpy ndarray.\n",
    "\n",
    "#### Why?\n",
    "\n",
    "* Our code will now run on GPUs! Much faster training. Writing your own modules to run on GPUs is beyond the scope of this class, unfortunately.\n",
    "* We want you to be ready to use one of these frameworks for your project so you can experiment more efficiently than if you were writing every feature you want to use by hand. \n",
    "* We want you to stand on the shoulders of giants! TensorFlow and PyTorch are both excellent frameworks that will make your lives a lot easier, and now that you understand their guts, you are free to use them :) \n",
    "* We want you to be exposed to the sort of deep learning code you might run into in academia or industry. "
   ]
  },
  {
   "cell_type": "markdown",
   "metadata": {
    "id": "nriuA2Fn2I8s",
    "tags": [
     "pdf-ignore"
    ]
   },
   "source": [
    "## How will I learn TensorFlow?\n",
    "\n",
    "TensorFlow has many excellent tutorials available, including those from [Google themselves](https://www.tensorflow.org/get_started/get_started).\n",
    "\n",
    "Otherwise, this notebook will walk you through much of what you need to do to train models in TensorFlow. See the end of the notebook for some links to helpful tutorials if you want to learn more or need further clarification on topics that aren't fully explained here.\n",
    "\n",
    "**NOTE: This notebook is meant to teach you the latest version of Tensorflow 2.0. Most examples on the web today are still in 1.x, so be careful not to confuse the two when looking up documentation**.\n",
    "\n",
    "## Install Tensorflow 2.0\n",
    "Tensorflow 2.0 is still not in a fully 100% stable release, but it's still usable and more intuitive than TF 1.x. Please make sure you have it installed before moving on in this notebook! Here are some steps to get started:\n",
    "\n",
    "1. Have the latest version of Anaconda installed on your machine.\n",
    "2. Create a new conda environment starting from Python 3.7. In this setup example, we'll call it `tf_20_env`.\n",
    "3. Run the command: `source activate tf_20_env`\n",
    "4. Then pip install TF 2.0 as described here: https://www.tensorflow.org/install/pip \n",
    "\n",
    "A guide on creating Anaconda enviornments: https://uoa-eresearch.github.io/eresearch-cookbook/recipe/2014/11/20/conda/\n",
    "\n",
    "This will give you an new enviornemnt to play in TF 2.0. Generally, if you plan to also use TensorFlow in your other projects, you might also want to keep a seperate Conda environment or virtualenv in Python 3.7 that has Tensorflow 1.9, so you can switch back and forth at will. "
   ]
  },
  {
   "cell_type": "markdown",
   "metadata": {
    "id": "R6j3IuSW2I8s",
    "tags": [
     "pdf-ignore"
    ]
   },
   "source": [
    "# Table of Contents\n",
    "\n",
    "This notebook has 5 parts. We will walk through TensorFlow at **three different levels of abstraction**, which should help you better understand it and prepare you for working on your project.\n",
    "\n",
    "1. Part I, Preparation: load the CIFAR-10 dataset.\n",
    "2. Part II, Barebone TensorFlow: **Abstraction Level 1**, we will work directly with low-level TensorFlow graphs. \n",
    "3. Part III, Keras Model API: **Abstraction Level 2**, we will use `tf.keras.Model` to define arbitrary neural network architecture. \n",
    "4. Part IV, Keras Sequential + Functional API: **Abstraction Level 3**, we will use `tf.keras.Sequential` to define a linear feed-forward network very conveniently, and then explore the functional libraries for building unique and uncommon models that require more flexibility.\n",
    "5. Part V, CIFAR-10 open-ended challenge: please implement your own network to get as high accuracy as possible on CIFAR-10. You can experiment with any layer, optimizer, hyperparameters or other advanced features. \n",
    "\n",
    "We will discuss Keras in more detail later in the notebook.\n",
    "\n",
    "Here is a table of comparison:\n",
    "\n",
    "| API           | Flexibility | Convenience |\n",
    "|---------------|-------------|-------------|\n",
    "| Barebone      | High        | Low         |\n",
    "| `tf.keras.Model`     | High        | Medium      |\n",
    "| `tf.keras.Sequential` | Low         | High        |"
   ]
  },
  {
   "cell_type": "markdown",
   "metadata": {
    "id": "_FHlsvxb2I8t"
   },
   "source": [
    "# Part I: Preparation\n",
    "\n",
    "First, we load the CIFAR-10 dataset. This might take a few minutes to download the first time you run it, but after that the files should be cached on disk and loading should be faster.\n",
    "\n",
    "In previous parts of the assignment we used CS231N-specific code to download and read the CIFAR-10 dataset; however the `tf.keras.datasets` package in TensorFlow provides prebuilt utility functions for loading many common datasets.\n",
    "\n",
    "For the purposes of this assignment we will still write our own code to preprocess the data and iterate through it in minibatches. The `tf.data` package in TensorFlow provides tools for automating this process, but working with this package adds extra complication and is beyond the scope of this notebook. However using `tf.data` can be much more efficient than the simple approach used in this notebook, so you should consider using it for your project."
   ]
  },
  {
   "cell_type": "code",
   "execution_count": 1,
   "metadata": {
    "id": "QwUijvVi2I8t",
    "tags": [
     "pdf-ignore"
    ]
   },
   "outputs": [],
   "source": [
    "import os\n",
    "# %tensorflow_version 2.x\n",
    "import tensorflow as tf\n",
    "import numpy as np\n",
    "import math\n",
    "import timeit\n",
    "import matplotlib.pyplot as plt\n",
    "\n",
    "%matplotlib inline"
   ]
  },
  {
   "cell_type": "code",
   "execution_count": 2,
   "metadata": {
    "executionInfo": {
     "elapsed": 17270,
     "status": "ok",
     "timestamp": 1586622710428,
     "user": {
      "displayName": "eyal gomel",
      "photoUrl": "",
      "userId": "05448054368077631446"
     },
     "user_tz": -180
    },
    "id": "ayWTMy0Z2I8x",
    "outputId": "3bf24099-f8ea-4858-accc-b3e5894b3ec4",
    "tags": [
     "pdf-ignore"
    ]
   },
   "outputs": [
    {
     "name": "stdout",
     "output_type": "stream",
     "text": [
      "Downloading data from https://www.cs.toronto.edu/~kriz/cifar-10-python.tar.gz\n",
      "170500096/170498071 [==============================] - 2s 0us/step\n",
      "Train data shape:  (49000, 32, 32, 3)\n",
      "Train labels shape:  (49000,) int32\n",
      "Validation data shape:  (1000, 32, 32, 3)\n",
      "Validation labels shape:  (1000,)\n",
      "Test data shape:  (10000, 32, 32, 3)\n",
      "Test labels shape:  (10000,)\n"
     ]
    }
   ],
   "source": [
    "def load_cifar10(num_training=49000, num_validation=1000, num_test=10000):\n",
    "    \"\"\"\n",
    "    Fetch the CIFAR-10 dataset from the web and perform preprocessing to prepare\n",
    "    it for the two-layer neural net classifier. These are the same steps as\n",
    "    we used for the SVM, but condensed to a single function.\n",
    "    \"\"\"\n",
    "    # Load the raw CIFAR-10 dataset and use appropriate data types and shapes\n",
    "    cifar10 = tf.keras.datasets.cifar10.load_data()\n",
    "    (X_train, y_train), (X_test, y_test) = cifar10\n",
    "    X_train = np.asarray(X_train, dtype=np.float32)\n",
    "    y_train = np.asarray(y_train, dtype=np.int32).flatten()\n",
    "    X_test = np.asarray(X_test, dtype=np.float32)\n",
    "    y_test = np.asarray(y_test, dtype=np.int32).flatten()\n",
    "\n",
    "    # Subsample the data\n",
    "    mask = range(num_training, num_training + num_validation)\n",
    "    X_val = X_train[mask]\n",
    "    y_val = y_train[mask]\n",
    "    mask = range(num_training)\n",
    "    X_train = X_train[mask]\n",
    "    y_train = y_train[mask]\n",
    "    mask = range(num_test)\n",
    "    X_test = X_test[mask]\n",
    "    y_test = y_test[mask]\n",
    "\n",
    "    # Normalize the data: subtract the mean pixel and divide by std\n",
    "    mean_pixel = X_train.mean(axis=(0, 1, 2), keepdims=True)\n",
    "    std_pixel = X_train.std(axis=(0, 1, 2), keepdims=True)\n",
    "    X_train = (X_train - mean_pixel) / std_pixel\n",
    "    X_val = (X_val - mean_pixel) / std_pixel\n",
    "    X_test = (X_test - mean_pixel) / std_pixel\n",
    "\n",
    "    return X_train, y_train, X_val, y_val, X_test, y_test\n",
    "\n",
    "# If there are errors with SSL downloading involving self-signed certificates,\n",
    "# it may be that your Python version was recently installed on the current machine.\n",
    "# See: https://github.com/tensorflow/tensorflow/issues/10779\n",
    "# To fix, run the command: /Applications/Python\\ 3.7/Install\\ Certificates.command\n",
    "#   ...replacing paths as necessary.\n",
    "\n",
    "# Invoke the above function to get our data.\n",
    "NHW = (0, 1, 2)\n",
    "X_train, y_train, X_val, y_val, X_test, y_test = load_cifar10()\n",
    "print('Train data shape: ', X_train.shape)\n",
    "print('Train labels shape: ', y_train.shape, y_train.dtype)\n",
    "print('Validation data shape: ', X_val.shape)\n",
    "print('Validation labels shape: ', y_val.shape)\n",
    "print('Test data shape: ', X_test.shape)\n",
    "print('Test labels shape: ', y_test.shape)"
   ]
  },
  {
   "cell_type": "code",
   "execution_count": 3,
   "metadata": {
    "id": "Ec27K_fU2I80",
    "tags": [
     "pdf-ignore"
    ]
   },
   "outputs": [],
   "source": [
    "class Dataset(object):\n",
    "    def __init__(self, X, y, batch_size, shuffle=False):\n",
    "        \"\"\"\n",
    "        Construct a Dataset object to iterate over data X and labels y\n",
    "        \n",
    "        Inputs:\n",
    "        - X: Numpy array of data, of any shape\n",
    "        - y: Numpy array of labels, of any shape but with y.shape[0] == X.shape[0]\n",
    "        - batch_size: Integer giving number of elements per minibatch\n",
    "        - shuffle: (optional) Boolean, whether to shuffle the data on each epoch\n",
    "        \"\"\"\n",
    "        assert X.shape[0] == y.shape[0], 'Got different numbers of data and labels'\n",
    "        self.X, self.y = X, y\n",
    "        self.batch_size, self.shuffle = batch_size, shuffle\n",
    "\n",
    "    def __iter__(self):\n",
    "        N, B = self.X.shape[0], self.batch_size\n",
    "        idxs = np.arange(N)\n",
    "        if self.shuffle:\n",
    "            np.random.shuffle(idxs)\n",
    "        return iter((self.X[i:i+B], self.y[i:i+B]) for i in range(0, N, B))\n",
    "\n",
    "\n",
    "train_dset = Dataset(X_train, y_train, batch_size=64, shuffle=True)\n",
    "val_dset = Dataset(X_val, y_val, batch_size=64, shuffle=False)\n",
    "test_dset = Dataset(X_test, y_test, batch_size=64)"
   ]
  },
  {
   "cell_type": "code",
   "execution_count": 4,
   "metadata": {
    "executionInfo": {
     "elapsed": 16482,
     "status": "ok",
     "timestamp": 1586622710429,
     "user": {
      "displayName": "eyal gomel",
      "photoUrl": "",
      "userId": "05448054368077631446"
     },
     "user_tz": -180
    },
    "id": "ZkssPDuq2I83",
    "outputId": "bd8a11c8-57ac-496c-d575-06291335295c"
   },
   "outputs": [
    {
     "name": "stdout",
     "output_type": "stream",
     "text": [
      "0 (64, 32, 32, 3) (64,)\n",
      "1 (64, 32, 32, 3) (64,)\n",
      "2 (64, 32, 32, 3) (64,)\n",
      "3 (64, 32, 32, 3) (64,)\n",
      "4 (64, 32, 32, 3) (64,)\n",
      "5 (64, 32, 32, 3) (64,)\n",
      "6 (64, 32, 32, 3) (64,)\n"
     ]
    }
   ],
   "source": [
    "# We can iterate through a dataset like this:\n",
    "for t, (x, y) in enumerate(train_dset):\n",
    "    print(t, x.shape, y.shape)\n",
    "    if t > 5: break"
   ]
  },
  {
   "cell_type": "markdown",
   "metadata": {
    "id": "DBzU74692I85"
   },
   "source": [
    "You can optionally **use GPU by setting the flag to True below**. It's not neccessary to use a GPU for this assignment; if you are working on Google Cloud then we recommend that you do not use a GPU, as it will be significantly more expensive."
   ]
  },
  {
   "cell_type": "code",
   "execution_count": null,
   "metadata": {
    "executionInfo": {
     "elapsed": 6534,
     "status": "ok",
     "timestamp": 1586596535114,
     "user": {
      "displayName": "eyal gomel",
      "photoUrl": "",
      "userId": "05448054368077631446"
     },
     "user_tz": -180
    },
    "id": "NUGHmsku2I86",
    "outputId": "5a1d0a82-b097-4487-9f1b-b51542b25cde",
    "tags": [
     "pdf-ignore-input"
    ]
   },
   "outputs": [],
   "source": [
    "# Set up some global variables\n",
    "USE_GPU = False\n",
    "\n",
    "if USE_GPU:\n",
    "    device = '/device:GPU:0'\n",
    "else:\n",
    "    device = '/cpu:0'\n",
    "    \n",
    "# Constant to control how often we print when training models\n",
    "print_every = 100\n",
    "\n",
    "print('Using device: ', device)"
   ]
  },
  {
   "cell_type": "markdown",
   "metadata": {
    "id": "6Nszygcu2I88",
    "tags": [
     "pdf-ignore"
    ]
   },
   "source": [
    "# Part II: Barebones TensorFlow\n",
    "TensorFlow ships with various high-level APIs which make it very convenient to define and train neural networks; we will cover some of these constructs in Part III and Part IV of this notebook. In this section we will start by building a model with basic TensorFlow constructs to help you better understand what's going on under the hood of the higher-level APIs.\n",
    "\n",
    "**\"Barebones Tensorflow\" is important to understanding the building blocks of TensorFlow, but much of it involves concepts from TensorFlow 1.x.** We will be working with legacy modules such as `tf.Variable`.\n",
    "\n",
    "Therefore, please read and understand the differences between legacy (1.x) TF and the new (2.0) TF.\n",
    "\n",
    "### Historical background on TensorFlow 1.x\n",
    "\n",
    "TensorFlow 1.x is primarily a framework for working with **static computational graphs**. Nodes in the computational graph are Tensors which will hold n-dimensional arrays when the graph is run; edges in the graph represent functions that will operate on Tensors when the graph is run to actually perform useful computation.\n",
    "\n",
    "Before Tensorflow 2.0, we had to configure the graph into two phases. There are plenty of tutorials online that explain this two-step process. The process generally looks like the following for TF 1.x:\n",
    "1. **Build a computational graph that describes the computation that you want to perform**. This stage doesn't actually perform any computation; it just builds up a symbolic representation of your computation. This stage will typically define one or more `placeholder` objects that represent inputs to the computational graph.\n",
    "2. **Run the computational graph many times.** Each time the graph is run (e.g. for one gradient descent step) you will specify which parts of the graph you want to compute, and pass a `feed_dict` dictionary that will give concrete values to any `placeholder`s in the graph.\n",
    "\n",
    "### The new paradigm in Tensorflow 2.0\n",
    "Now, with Tensorflow 2.0, we can simply adopt a functional form that is more Pythonic and similar in spirit to PyTorch and direct Numpy operation. Instead of the 2-step paradigm with computation graphs, making it (among other things) easier to debug TF code. You can read more details at https://www.tensorflow.org/guide/eager.\n",
    "\n",
    "The main difference between the TF 1.x and 2.0 approach is that the 2.0 approach doesn't make use of `tf.Session`, `tf.run`, `placeholder`, `feed_dict`. To get more details of what's different between the two version and how to convert between the two, check out the official migration guide: https://www.tensorflow.org/alpha/guide/migration_guide\n",
    "\n",
    "Later, in the rest of this notebook we'll focus on this new, simpler approach."
   ]
  },
  {
   "cell_type": "markdown",
   "metadata": {
    "id": "Pngdp7Bh2I89",
    "tags": [
     "pdf-ignore"
    ]
   },
   "source": [
    "### TensorFlow warmup: Flatten Function\n",
    "\n",
    "We can see this in action by defining a simple `flatten` function that will reshape image data for use in a fully-connected network.\n",
    "\n",
    "In TensorFlow, data for convolutional feature maps is typically stored in a Tensor of shape N x H x W x C where:\n",
    "\n",
    "- N is the number of datapoints (minibatch size)\n",
    "- H is the height of the feature map\n",
    "- W is the width of the feature map\n",
    "- C is the number of channels in the feature map\n",
    "\n",
    "This is the right way to represent the data when we are doing something like a 2D convolution, that needs spatial understanding of where the intermediate features are relative to each other. When we use fully connected affine layers to process the image, however, we want each datapoint to be represented by a single vector -- it's no longer useful to segregate the different channels, rows, and columns of the data. So, we use a \"flatten\" operation to collapse the `H x W x C` values per representation into a single long vector. \n",
    "\n",
    "Notice the `tf.reshape` call has the target shape as `(N, -1)`, meaning it will reshape/keep the first dimension to be N, and then infer as necessary what the second dimension is in the output, so we can collapse the remaining dimensions from the input properly.\n",
    "\n",
    "**NOTE**: TensorFlow and PyTorch differ on the default Tensor layout; TensorFlow uses N x H x W x C but PyTorch uses N x C x H x W."
   ]
  },
  {
   "cell_type": "code",
   "execution_count": null,
   "metadata": {
    "id": "OvIK0_Zb2I8-",
    "tags": [
     "pdf-ignore"
    ]
   },
   "outputs": [],
   "source": [
    "def flatten(x):\n",
    "    \"\"\"    \n",
    "    Input:\n",
    "    - TensorFlow Tensor of shape (N, D1, ..., DM)\n",
    "    \n",
    "    Output:\n",
    "    - TensorFlow Tensor of shape (N, D1 * ... * DM)\n",
    "    \"\"\"\n",
    "    N = tf.shape(x)[0]\n",
    "    return tf.reshape(x, (N, -1))"
   ]
  },
  {
   "cell_type": "code",
   "execution_count": null,
   "metadata": {
    "executionInfo": {
     "elapsed": 7555,
     "status": "ok",
     "timestamp": 1586072065440,
     "user": {
      "displayName": "eyal gomel",
      "photoUrl": "",
      "userId": "05448054368077631446"
     },
     "user_tz": -180
    },
    "id": "Q9S7-WOG2I9A",
    "outputId": "25912f40-f611-46da-9da5-471bcaf8ffa7",
    "tags": [
     "pdf-ignore-input"
    ]
   },
   "outputs": [],
   "source": [
    "def test_flatten():\n",
    "    # Construct concrete values of the input data x using numpy\n",
    "    x_np = np.arange(24).reshape((2, 3, 4))\n",
    "    print('x_np:\\n', x_np, '\\n')\n",
    "    # Compute a concrete output value.\n",
    "    x_flat_np = flatten(x_np)\n",
    "    print('x_flat_np:\\n', x_flat_np, '\\n')\n",
    "\n",
    "test_flatten()"
   ]
  },
  {
   "cell_type": "markdown",
   "metadata": {
    "id": "TqPiT1oa2I9D"
   },
   "source": [
    "### Barebones TensorFlow: Define a Two-Layer Network\n",
    "We will now implement our first neural network with TensorFlow: a fully-connected ReLU network with two hidden layers and no biases on the CIFAR10 dataset. For now we will use only low-level TensorFlow operators to define the network; later we will see how to use the higher-level abstractions provided by `tf.keras` to simplify the process.\n",
    "\n",
    "We will define the forward pass of the network in the function `two_layer_fc`; this will accept TensorFlow Tensors for the inputs and weights of the network, and return a TensorFlow Tensor for the scores. \n",
    "\n",
    "After defining the network architecture in the `two_layer_fc` function, we will test the implementation by checking the shape of the output.\n",
    "\n",
    "**It's important that you read and understand this implementation.**"
   ]
  },
  {
   "cell_type": "code",
   "execution_count": null,
   "metadata": {
    "id": "bOjH7o3u2I9D",
    "tags": [
     "pdf-ignore"
    ]
   },
   "outputs": [],
   "source": [
    "def two_layer_fc(x, params):\n",
    "    \"\"\"\n",
    "    A fully-connected neural network; the architecture is:\n",
    "    fully-connected layer -> ReLU -> fully connected layer.\n",
    "    Note that we only need to define the forward pass here; TensorFlow will take\n",
    "    care of computing the gradients for us.\n",
    "    \n",
    "    The input to the network will be a minibatch of data, of shape\n",
    "    (N, d1, ..., dM) where d1 * ... * dM = D. The hidden layer will have H units,\n",
    "    and the output layer will produce scores for C classes.\n",
    "\n",
    "    Inputs:\n",
    "    - x: A TensorFlow Tensor of shape (N, d1, ..., dM) giving a minibatch of\n",
    "      input data.\n",
    "    - params: A list [w1, w2] of TensorFlow Tensors giving weights for the\n",
    "      network, where w1 has shape (D, H) and w2 has shape (H, C).\n",
    "    \n",
    "    Returns:\n",
    "    - scores: A TensorFlow Tensor of shape (N, C) giving classification scores\n",
    "      for the input data x.\n",
    "    \"\"\"\n",
    "    w1, w2 = params                   # Unpack the parameters\n",
    "    x = flatten(x)                    # Flatten the input; now x has shape (N, D)\n",
    "    h = tf.nn.relu(tf.matmul(x, w1))  # Hidden layer: h has shape (N, H)\n",
    "    scores = tf.matmul(h, w2)         # Compute scores of shape (N, C)\n",
    "    return scores"
   ]
  },
  {
   "cell_type": "code",
   "execution_count": null,
   "metadata": {
    "executionInfo": {
     "elapsed": 6533,
     "status": "ok",
     "timestamp": 1586072067451,
     "user": {
      "displayName": "eyal gomel",
      "photoUrl": "",
      "userId": "05448054368077631446"
     },
     "user_tz": -180
    },
    "id": "Usu4ZkBI2I9F",
    "outputId": "163e6649-7eed-4983-a5e9-40fe7171ed44",
    "tags": [
     "pdf-ignore-input"
    ]
   },
   "outputs": [],
   "source": [
    "def two_layer_fc_test():\n",
    "    hidden_layer_size = 42\n",
    "\n",
    "    # Scoping our TF operations under a tf.device context manager \n",
    "    # lets us tell TensorFlow where we want these Tensors to be\n",
    "    # multiplied and/or operated on, e.g. on a CPU or a GPU.\n",
    "    with tf.device(device):        \n",
    "        x = tf.zeros((64, 32, 32, 3))\n",
    "        w1 = tf.zeros((32 * 32 * 3, hidden_layer_size))\n",
    "        w2 = tf.zeros((hidden_layer_size, 10))\n",
    "\n",
    "        # Call our two_layer_fc function for the forward pass of the network.\n",
    "        scores = two_layer_fc(x, [w1, w2])\n",
    "\n",
    "    print(scores.shape)\n",
    "\n",
    "two_layer_fc_test()"
   ]
  },
  {
   "cell_type": "markdown",
   "metadata": {
    "id": "9f0PDk-w2I9I"
   },
   "source": [
    "### Barebones TensorFlow: Three-Layer ConvNet\n",
    "Here you will complete the implementation of the function `three_layer_convnet` which will perform the forward pass of a three-layer convolutional network. The network should have the following architecture:\n",
    "\n",
    "1. A convolutional layer (with bias) with `channel_1` filters, each with shape `KW1 x KH1`, and zero-padding of two\n",
    "2. ReLU nonlinearity\n",
    "3. A convolutional layer (with bias) with `channel_2` filters, each with shape `KW2 x KH2`, and zero-padding of one\n",
    "4. ReLU nonlinearity\n",
    "5. Fully-connected layer with bias, producing scores for `C` classes.\n",
    "\n",
    "**HINT**: For convolutions: https://www.tensorflow.org/versions/r2.0/api_docs/python/tf/nn/conv2d; be careful with padding!\n",
    "\n",
    "**HINT**: For biases: https://www.tensorflow.org/performance/xla/broadcasting"
   ]
  },
  {
   "cell_type": "code",
   "execution_count": null,
   "metadata": {
    "id": "7Jujsd3p2I9I"
   },
   "outputs": [],
   "source": [
    "def three_layer_convnet(x, params):\n",
    "    \"\"\"\n",
    "    A three-layer convolutional network with the architecture described above.\n",
    "    \n",
    "    Inputs:\n",
    "    - x: A TensorFlow Tensor of shape (N, H, W, 3) giving a minibatch of images\n",
    "    - params: A list of TensorFlow Tensors giving the weights and biases for the\n",
    "      network; should contain the following:\n",
    "      - conv_w1: TensorFlow Tensor of shape (KH1, KW1, 3, channel_1) giving\n",
    "        weights for the first convolutional layer.\n",
    "      - conv_b1: TensorFlow Tensor of shape (channel_1,) giving biases for the\n",
    "        first convolutional layer.\n",
    "      - conv_w2: TensorFlow Tensor of shape (KH2, KW2, channel_1, channel_2)\n",
    "        giving weights for the second convolutional layer\n",
    "      - conv_b2: TensorFlow Tensor of shape (channel_2,) giving biases for the\n",
    "        second convolutional layer.\n",
    "      - fc_w: TensorFlow Tensor giving weights for the fully-connected layer.\n",
    "        Can you figure out what the shape should be?\n",
    "      - fc_b: TensorFlow Tensor giving biases for the fully-connected layer.\n",
    "        Can you figure out what the shape should be?\n",
    "    \"\"\"\n",
    "    conv_w1, conv_b1, conv_w2, conv_b2, fc_w, fc_b = params\n",
    "    scores = None\n",
    "    ############################################################################\n",
    "    # TODO: Implement the forward pass for the three-layer ConvNet.            #\n",
    "    ############################################################################\n",
    "    # *****START OF YOUR CODE (DO NOT DELETE/MODIFY THIS LINE)*****\n",
    "    \n",
    "    h = tf.nn.relu(tf.nn.conv2d(input=x, filters=conv_w1, strides=1, padding='SAME') + conv_b1)\n",
    "    h = tf.nn.relu(tf.nn.conv2d(input=h, filters=conv_w2, strides=1, padding='SAME') + conv_b2)\n",
    "    scores = tf.matmul(flatten(h), fc_w) + fc_b\n",
    "    \n",
    "    # *****END OF YOUR CODE (DO NOT DELETE/MODIFY THIS LINE)*****\n",
    "    ############################################################################\n",
    "    #                              END OF YOUR CODE                            #\n",
    "    ############################################################################\n",
    "    return scores"
   ]
  },
  {
   "cell_type": "markdown",
   "metadata": {
    "id": "2lTIUKtO2I9L"
   },
   "source": [
    "After defing the forward pass of the three-layer ConvNet above, run the following cell to test your implementation. Like the two-layer network, we run the graph on a batch of zeros just to make sure the function doesn't crash, and produces outputs of the correct shape.\n",
    "\n",
    "When you run this function, `scores_np` should have shape `(64, 10)`."
   ]
  },
  {
   "cell_type": "code",
   "execution_count": null,
   "metadata": {
    "executionInfo": {
     "elapsed": 5544,
     "status": "ok",
     "timestamp": 1586072073023,
     "user": {
      "displayName": "eyal gomel",
      "photoUrl": "",
      "userId": "05448054368077631446"
     },
     "user_tz": -180
    },
    "id": "s4JXQLIi2I9M",
    "outputId": "2283795f-ad24-4c26-d389-6cce5c175195",
    "tags": [
     "pdf-ignore-input"
    ]
   },
   "outputs": [],
   "source": [
    "def three_layer_convnet_test():\n",
    "    \n",
    "    with tf.device(device):\n",
    "        x = tf.zeros((64, 32, 32, 3))\n",
    "        conv_w1 = tf.zeros((5, 5, 3, 6))\n",
    "        conv_b1 = tf.zeros((6,))\n",
    "        conv_w2 = tf.zeros((3, 3, 6, 9))\n",
    "        conv_b2 = tf.zeros((9,))\n",
    "        fc_w = tf.zeros((32 * 32 * 9, 10))\n",
    "        fc_b = tf.zeros((10,))\n",
    "        params = [conv_w1, conv_b1, conv_w2, conv_b2, fc_w, fc_b]\n",
    "        scores = three_layer_convnet(x, params)\n",
    "\n",
    "    # Inputs to convolutional layers are 4-dimensional arrays with shape\n",
    "    # [batch_size, height, width, channels]\n",
    "    print('scores_np has shape: ', scores.shape)\n",
    "\n",
    "three_layer_convnet_test()"
   ]
  },
  {
   "cell_type": "markdown",
   "metadata": {
    "id": "kv-1zacE2I9O"
   },
   "source": [
    "### Barebones TensorFlow: Training Step\n",
    "\n",
    "We now define the `training_step` function performs a single training step. This will take three basic steps:\n",
    "\n",
    "1. Compute the loss\n",
    "2. Compute the gradient of the loss with respect to all network weights\n",
    "3. Make a weight update step using (stochastic) gradient descent.\n",
    "\n",
    "\n",
    "We need to use a few new TensorFlow functions to do all of this:\n",
    "- For computing the cross-entropy loss we'll use `tf.nn.sparse_softmax_cross_entropy_with_logits`: https://www.tensorflow.org/versions/r2.0/api_docs/python/tf/nn/sparse_softmax_cross_entropy_with_logits\n",
    "\n",
    "- For averaging the loss across a minibatch of data we'll use `tf.reduce_mean`:\n",
    "https://www.tensorflow.org/versions/r2.0/api_docs/python/tf/reduce_mean\n",
    "\n",
    "- For computing gradients of the loss with respect to the weights we'll use `tf.GradientTape` (useful for Eager execution):  https://www.tensorflow.org/versions/r2.0/api_docs/python/tf/GradientTape\n",
    "\n",
    "- We'll mutate the weight values stored in a TensorFlow Tensor using `tf.assign_sub` (\"sub\" is for subtraction): https://www.tensorflow.org/api_docs/python/tf/assign_sub \n"
   ]
  },
  {
   "cell_type": "code",
   "execution_count": null,
   "metadata": {
    "id": "-nYKcYin2I9O",
    "tags": [
     "pdf-ignore"
    ]
   },
   "outputs": [],
   "source": [
    "def training_step(model_fn, x, y, params, learning_rate):\n",
    "    with tf.GradientTape() as tape:\n",
    "        scores = model_fn(x, params) # Forward pass of the model\n",
    "        loss = tf.nn.sparse_softmax_cross_entropy_with_logits(labels=y, logits=scores)\n",
    "        total_loss = tf.reduce_mean(loss)\n",
    "        grad_params = tape.gradient(total_loss, params)\n",
    "\n",
    "        # Make a vanilla gradient descent step on all of the model parameters\n",
    "        # Manually update the weights using assign_sub()\n",
    "        for w, grad_w in zip(params, grad_params):\n",
    "            w.assign_sub(learning_rate * grad_w)\n",
    "                        \n",
    "        return total_loss"
   ]
  },
  {
   "cell_type": "code",
   "execution_count": null,
   "metadata": {
    "id": "rHTET9OJ2I9R",
    "tags": [
     "pdf-ignore"
    ]
   },
   "outputs": [],
   "source": [
    "def train_part2(model_fn, init_fn, learning_rate):\n",
    "    \"\"\"\n",
    "    Train a model on CIFAR-10.\n",
    "    \n",
    "    Inputs:\n",
    "    - model_fn: A Python function that performs the forward pass of the model\n",
    "      using TensorFlow; it should have the following signature:\n",
    "      scores = model_fn(x, params) where x is a TensorFlow Tensor giving a\n",
    "      minibatch of image data, params is a list of TensorFlow Tensors holding\n",
    "      the model weights, and scores is a TensorFlow Tensor of shape (N, C)\n",
    "      giving scores for all elements of x.\n",
    "    - init_fn: A Python function that initializes the parameters of the model.\n",
    "      It should have the signature params = init_fn() where params is a list\n",
    "      of TensorFlow Tensors holding the (randomly initialized) weights of the\n",
    "      model.\n",
    "    - learning_rate: Python float giving the learning rate to use for SGD.\n",
    "    \"\"\"\n",
    "    \n",
    "    \n",
    "    params = init_fn()  # Initialize the model parameters            \n",
    "        \n",
    "    for t, (x_np, y_np) in enumerate(train_dset):\n",
    "        # Run the graph on a batch of training data.\n",
    "        loss = training_step(model_fn, x_np, y_np, params, learning_rate)\n",
    "        \n",
    "        # Periodically print the loss and check accuracy on the val set.\n",
    "        if t % print_every == 0:\n",
    "            print('Iteration %d, loss = %.4f' % (t, loss))\n",
    "            check_accuracy(val_dset, x_np, model_fn, params)"
   ]
  },
  {
   "cell_type": "code",
   "execution_count": null,
   "metadata": {
    "id": "1UB-sKPq2I9T",
    "tags": [
     "pdf-ignore"
    ]
   },
   "outputs": [],
   "source": [
    "def check_accuracy(dset, x, model_fn, params):\n",
    "    \"\"\"\n",
    "    Check accuracy on a classification model, e.g. for validation.\n",
    "    \n",
    "    Inputs:\n",
    "    - dset: A Dataset object against which to check accuracy\n",
    "    - x: A TensorFlow placeholder Tensor where input images should be fed\n",
    "    - model_fn: the Model we will be calling to make predictions on x\n",
    "    - params: parameters for the model_fn to work with\n",
    "      \n",
    "    Returns: Nothing, but prints the accuracy of the model\n",
    "    \"\"\"\n",
    "    num_correct, num_samples = 0, 0\n",
    "    for x_batch, y_batch in dset:\n",
    "        scores_np = model_fn(x_batch, params).numpy()\n",
    "        y_pred = scores_np.argmax(axis=1)\n",
    "        num_samples += x_batch.shape[0]\n",
    "        num_correct += (y_pred == y_batch).sum()\n",
    "    acc = float(num_correct) / num_samples\n",
    "    print('Got %d / %d correct (%.2f%%)' % (num_correct, num_samples, 100 * acc))"
   ]
  },
  {
   "cell_type": "markdown",
   "metadata": {
    "id": "3hX1byqY2I9V"
   },
   "source": [
    "### Barebones TensorFlow: Initialization\n",
    "We'll use the following utility method to initialize the weight matrices for our models using Kaiming's normalization method.\n",
    "\n",
    "[1] He et al, *Delving Deep into Rectifiers: Surpassing Human-Level Performance on ImageNet Classification\n",
    "*, ICCV 2015, https://arxiv.org/abs/1502.01852"
   ]
  },
  {
   "cell_type": "code",
   "execution_count": null,
   "metadata": {
    "id": "P5GaOzsk2I9V"
   },
   "outputs": [],
   "source": [
    "def create_matrix_with_kaiming_normal(shape):\n",
    "    if len(shape) == 2:\n",
    "        fan_in, fan_out = shape[0], shape[1]\n",
    "    elif len(shape) == 4:\n",
    "        fan_in, fan_out = np.prod(shape[:3]), shape[3]\n",
    "    return tf.keras.backend.random_normal(shape) * np.sqrt(2.0 / fan_in)"
   ]
  },
  {
   "cell_type": "markdown",
   "metadata": {
    "id": "6OxAFa4J2I9Y"
   },
   "source": [
    "### Barebones TensorFlow: Train a Two-Layer Network\n",
    "We are finally ready to use all of the pieces defined above to train a two-layer fully-connected network on CIFAR-10.\n",
    "\n",
    "We just need to define a function to initialize the weights of the model, and call `train_part2`.\n",
    "\n",
    "Defining the weights of the network introduces another important piece of TensorFlow API: `tf.Variable`. A TensorFlow Variable is a Tensor whose value is stored in the graph and persists across runs of the computational graph; however unlike constants defined with `tf.zeros` or `tf.random_normal`, the values of a Variable can be mutated as the graph runs; these mutations will persist across graph runs. Learnable parameters of the network are usually stored in Variables.\n",
    "\n",
    "You don't need to tune any hyperparameters, but you should achieve validation accuracies above 40% after one epoch of training."
   ]
  },
  {
   "cell_type": "code",
   "execution_count": null,
   "metadata": {
    "executionInfo": {
     "elapsed": 7083,
     "status": "ok",
     "timestamp": 1586072077294,
     "user": {
      "displayName": "eyal gomel",
      "photoUrl": "",
      "userId": "05448054368077631446"
     },
     "user_tz": -180
    },
    "id": "pSp-e7C32I9Z",
    "outputId": "8defd82d-8f73-4694-d145-b32a7ba0005d"
   },
   "outputs": [],
   "source": [
    "def two_layer_fc_init():\n",
    "    \"\"\"\n",
    "    Initialize the weights of a two-layer network, for use with the\n",
    "    two_layer_network function defined above. \n",
    "    You can use the `create_matrix_with_kaiming_normal` helper!\n",
    "    \n",
    "    Inputs: None\n",
    "    \n",
    "    Returns: A list of:\n",
    "    - w1: TensorFlow tf.Variable giving the weights for the first layer\n",
    "    - w2: TensorFlow tf.Variable giving the weights for the second layer\n",
    "    \"\"\"\n",
    "    hidden_layer_size = 4000\n",
    "    w1 = tf.Variable(create_matrix_with_kaiming_normal((3 * 32 * 32, 4000)))\n",
    "    w2 = tf.Variable(create_matrix_with_kaiming_normal((4000, 10)))\n",
    "    return [w1, w2]\n",
    "\n",
    "learning_rate = 1e-2\n",
    "train_part2(two_layer_fc, two_layer_fc_init, learning_rate)"
   ]
  },
  {
   "cell_type": "markdown",
   "metadata": {
    "id": "Ntrvh9YO2I9b"
   },
   "source": [
    "### Barebones TensorFlow: Train a three-layer ConvNet\n",
    "We will now use TensorFlow to train a three-layer ConvNet on CIFAR-10.\n",
    "\n",
    "You need to implement the `three_layer_convnet_init` function. Recall that the architecture of the network is:\n",
    "\n",
    "1. Convolutional layer (with bias) with 32 5x5 filters, with zero-padding 2\n",
    "2. ReLU\n",
    "3. Convolutional layer (with bias) with 16 3x3 filters, with zero-padding 1\n",
    "4. ReLU\n",
    "5. Fully-connected layer (with bias) to compute scores for 10 classes\n",
    "\n",
    "You don't need to do any hyperparameter tuning, but you should see validation accuracies above 43% after one epoch of training."
   ]
  },
  {
   "cell_type": "code",
   "execution_count": null,
   "metadata": {
    "executionInfo": {
     "elapsed": 10352,
     "status": "ok",
     "timestamp": 1586072082900,
     "user": {
      "displayName": "eyal gomel",
      "photoUrl": "",
      "userId": "05448054368077631446"
     },
     "user_tz": -180
    },
    "id": "eWVzS_H22I9b",
    "outputId": "ea3cb3cf-260e-42dc-816c-1c470776ec4b"
   },
   "outputs": [],
   "source": [
    "def three_layer_convnet_init():\n",
    "    \"\"\"\n",
    "    Initialize the weights of a Three-Layer ConvNet, for use with the\n",
    "    three_layer_convnet function defined above.\n",
    "    You can use the `create_matrix_with_kaiming_normal` helper!\n",
    "    \n",
    "    Inputs: None\n",
    "    \n",
    "    Returns a list containing:\n",
    "    - conv_w1: TensorFlow tf.Variable giving weights for the first conv layer\n",
    "    - conv_b1: TensorFlow tf.Variable giving biases for the first conv layer\n",
    "    - conv_w2: TensorFlow tf.Variable giving weights for the second conv layer\n",
    "    - conv_b2: TensorFlow tf.Variable giving biases for the second conv layer\n",
    "    - fc_w: TensorFlow tf.Variable giving weights for the fully-connected layer\n",
    "    - fc_b: TensorFlow tf.Variable giving biases for the fully-connected layer\n",
    "    \"\"\"\n",
    "    params = None\n",
    "    ############################################################################\n",
    "    # TODO: Initialize the parameters of the three-layer network.              #\n",
    "    ############################################################################\n",
    "    # *****START OF YOUR CODE (DO NOT DELETE/MODIFY THIS LINE)*****\n",
    "\n",
    "    conv_w1 = tf.Variable(create_matrix_with_kaiming_normal((5, 5, 3, 32)))\n",
    "    conv_b1 = tf.Variable(tf.zeros((32,)))\n",
    "    conv_w2 = tf.Variable(create_matrix_with_kaiming_normal((3, 3, 32, 16)))\n",
    "    conv_b2 = tf.Variable(tf.zeros((16,)))\n",
    "    fc_w = tf.Variable(create_matrix_with_kaiming_normal((16 * 32 * 32, 10)))\n",
    "    fc_b = tf.Variable(tf.zeros((10,)))\n",
    "\n",
    "    params = [conv_w1, conv_b1, conv_w2, conv_b2, fc_w, fc_b]\n",
    "    # *****END OF YOUR CODE (DO NOT DELETE/MODIFY THIS LINE)*****\n",
    "    ############################################################################\n",
    "    #                             END OF YOUR CODE                             #\n",
    "    ############################################################################\n",
    "    return params\n",
    "\n",
    "learning_rate = 3e-3\n",
    "train_part2(three_layer_convnet, three_layer_convnet_init, learning_rate)"
   ]
  },
  {
   "cell_type": "markdown",
   "metadata": {
    "id": "66Djy7m82I9d",
    "tags": [
     "pdf-ignore"
    ]
   },
   "source": [
    "# Part III: Keras Model Subclassing API\n",
    "\n",
    "Implementing a neural network using the low-level TensorFlow API is a good way to understand how TensorFlow works, but it's a little inconvenient - we had to manually keep track of all Tensors holding learnable parameters. This was fine for a small network, but could quickly become unweildy for a large complex model.\n",
    "\n",
    "Fortunately TensorFlow 2.0 provides higher-level APIs such as `tf.keras` which make it easy to build models out of modular, object-oriented layers. Further, TensorFlow 2.0 uses eager execution that evaluates operations immediately, without explicitly constructing any computational graphs. This makes it easy to write and debug models, and reduces the boilerplate code.\n",
    "\n",
    "In this part of the notebook we will define neural network models using the `tf.keras.Model` API. To implement your own model, you need to do the following:\n",
    "\n",
    "1. Define a new class which subclasses `tf.keras.Model`. Give your class an intuitive name that describes it, like `TwoLayerFC` or `ThreeLayerConvNet`.\n",
    "2. In the initializer `__init__()` for your new class, define all the layers you need as class attributes. The `tf.keras.layers` package provides many common neural-network layers, like `tf.keras.layers.Dense` for fully-connected layers and `tf.keras.layers.Conv2D` for convolutional layers. Under the hood, these layers will construct `Variable` Tensors for any learnable parameters. **Warning**: Don't forget to call `super(YourModelName, self).__init__()` as the first line in your initializer!\n",
    "3. Implement the `call()` method for your class; this implements the forward pass of your model, and defines the *connectivity* of your network. Layers defined in `__init__()` implement `__call__()` so they can be used as function objects that transform input Tensors into output Tensors. Don't define any new layers in `call()`; any layers you want to use in the forward pass should be defined in `__init__()`.\n",
    "\n",
    "After you define your `tf.keras.Model` subclass, you can instantiate it and use it like the model functions from Part II.\n",
    "\n",
    "### Keras Model Subclassing API: Two-Layer Network\n",
    "\n",
    "Here is a concrete example of using the `tf.keras.Model` API to define a two-layer network. There are a few new bits of API to be aware of here:\n",
    "\n",
    "We use an `Initializer` object to set up the initial values of the learnable parameters of the layers; in particular `tf.initializers.VarianceScaling` gives behavior similar to the Kaiming initialization method we used in Part II. You can read more about it here: https://www.tensorflow.org/versions/r2.0/api_docs/python/tf/initializers/VarianceScaling\n",
    "\n",
    "We construct `tf.keras.layers.Dense` objects to represent the two fully-connected layers of the model. In addition to multiplying their input by a weight matrix and adding a bias vector, these layer can also apply a nonlinearity for you. For the first layer we specify a ReLU activation function by passing `activation='relu'` to the constructor; the second layer uses softmax activation function. Finally, we use `tf.keras.layers.Flatten` to flatten the output from the previous fully-connected layer."
   ]
  },
  {
   "cell_type": "code",
   "execution_count": null,
   "metadata": {
    "executionInfo": {
     "elapsed": 8215,
     "status": "ok",
     "timestamp": 1586072082901,
     "user": {
      "displayName": "eyal gomel",
      "photoUrl": "",
      "userId": "05448054368077631446"
     },
     "user_tz": -180
    },
    "id": "mGoL28K32I9e",
    "outputId": "43cb4476-2fd6-4869-f628-6acd71e95cc1",
    "tags": [
     "pdf-ignore-input"
    ]
   },
   "outputs": [],
   "source": [
    "class TwoLayerFC(tf.keras.Model):\n",
    "    def __init__(self, hidden_size, num_classes):\n",
    "        super(TwoLayerFC, self).__init__()        \n",
    "        initializer = tf.initializers.VarianceScaling(scale=2.0)\n",
    "        self.fc1 = tf.keras.layers.Dense(hidden_size, activation='relu',\n",
    "                                   kernel_initializer=initializer)\n",
    "        self.fc2 = tf.keras.layers.Dense(num_classes, activation='softmax',\n",
    "                                   kernel_initializer=initializer)\n",
    "        self.flatten = tf.keras.layers.Flatten()\n",
    "    \n",
    "    def call(self, x, training=False):\n",
    "        x = self.flatten(x)\n",
    "        x = self.fc1(x)\n",
    "        x = self.fc2(x)\n",
    "        return x\n",
    "\n",
    "\n",
    "def test_TwoLayerFC():\n",
    "    \"\"\" A small unit test to exercise the TwoLayerFC model above. \"\"\"\n",
    "    input_size, hidden_size, num_classes = 50, 42, 10\n",
    "    x = tf.zeros((64, input_size))\n",
    "    model = TwoLayerFC(hidden_size, num_classes)\n",
    "    with tf.device(device):\n",
    "        scores = model(x)\n",
    "        print(scores.shape)\n",
    "        \n",
    "test_TwoLayerFC()"
   ]
  },
  {
   "cell_type": "markdown",
   "metadata": {
    "id": "Khp6kcb72I9g"
   },
   "source": [
    "### Keras Model Subclassing API: Three-Layer ConvNet\n",
    "Now it's your turn to implement a three-layer ConvNet using the `tf.keras.Model` API. Your model should have the same architecture used in Part II:\n",
    "\n",
    "1. Convolutional layer with 5 x 5 kernels, with zero-padding of 2\n",
    "2. ReLU nonlinearity\n",
    "3. Convolutional layer with 3 x 3 kernels, with zero-padding of 1\n",
    "4. ReLU nonlinearity\n",
    "5. Fully-connected layer to give class scores\n",
    "6. Softmax nonlinearity\n",
    "\n",
    "You should initialize the weights of your network using the same initialization method as was used in the two-layer network above.\n",
    "\n",
    "**Hint**: Refer to the documentation for `tf.keras.layers.Conv2D` and `tf.keras.layers.Dense`:\n",
    "\n",
    "https://www.tensorflow.org/versions/r2.0/api_docs/python/tf/keras/layers/Conv2D\n",
    "\n",
    "https://www.tensorflow.org/versions/r2.0/api_docs/python/tf/keras/layers/Dense"
   ]
  },
  {
   "cell_type": "code",
   "execution_count": null,
   "metadata": {
    "id": "1Rs0BmuZ2I9g"
   },
   "outputs": [],
   "source": [
    "from tensorflow.keras.layers import Conv2D\n",
    "from tensorflow.keras.layers import Dense\n",
    "from tensorflow.keras.layers import Flatten\n",
    "\n",
    "class ThreeLayerConvNet(tf.keras.Model):\n",
    "    def __init__(self, channel_1, channel_2, num_classes):\n",
    "        super(ThreeLayerConvNet, self).__init__()\n",
    "        ########################################################################\n",
    "        # TODO: Implement the __init__ method for a three-layer ConvNet. You   #\n",
    "        # should instantiate layer objects to be used in the forward pass.     #\n",
    "        ########################################################################\n",
    "        # *****START OF YOUR CODE (DO NOT DELETE/MODIFY THIS LINE)*****\n",
    "        \n",
    "        initializer = tf.initializers.VarianceScaling(scale=2.0)\n",
    "        self.conv1 = Conv2D(filters=channel_1, kernel_size=(5,5), padding='same',\n",
    "                            kernel_initializer=initializer, activation=tf.nn.relu)\n",
    "        self.conv2 = Conv2D(filters=channel_2, kernel_size=(3,3), padding='same',\n",
    "                            kernel_initializer=initializer, activation=tf.nn.relu)\n",
    "        self.fc1 = Dense(num_classes, kernel_initializer=initializer, activation=tf.nn.softmax)\n",
    "\n",
    "        # *****END OF YOUR CODE (DO NOT DELETE/MODIFY THIS LINE)*****\n",
    "        ########################################################################\n",
    "        #                           END OF YOUR CODE                           #\n",
    "        ########################################################################\n",
    "        \n",
    "    def call(self, x, training=False):\n",
    "        scores = None\n",
    "        ########################################################################\n",
    "        # TODO: Implement the forward pass for a three-layer ConvNet. You      #\n",
    "        # should use the layer objects defined in the __init__ method.         #\n",
    "        ########################################################################\n",
    "        # *****START OF YOUR CODE (DO NOT DELETE/MODIFY THIS LINE)*****\n",
    "\n",
    "        scores = self.conv1(x)\n",
    "        scores = self.conv2(scores)\n",
    "        scores = self.fc1(Flatten()(scores))\n",
    "\n",
    "        # *****END OF YOUR CODE (DO NOT DELETE/MODIFY THIS LINE)*****\n",
    "        ########################################################################\n",
    "        #                           END OF YOUR CODE                           #\n",
    "        ########################################################################        \n",
    "        return scores"
   ]
  },
  {
   "cell_type": "markdown",
   "metadata": {
    "id": "8zUHnuc82I9i"
   },
   "source": [
    "Once you complete the implementation of the `ThreeLayerConvNet` above you can run the following to ensure that your implementation does not crash and produces outputs of the expected shape."
   ]
  },
  {
   "cell_type": "code",
   "execution_count": null,
   "metadata": {
    "executionInfo": {
     "elapsed": 4923,
     "status": "ok",
     "timestamp": 1586072082904,
     "user": {
      "displayName": "eyal gomel",
      "photoUrl": "",
      "userId": "05448054368077631446"
     },
     "user_tz": -180
    },
    "id": "G2im5U-J2I9j",
    "outputId": "b0d0ddce-eb30-456f-d554-486ed3ce5a86"
   },
   "outputs": [],
   "source": [
    "def test_ThreeLayerConvNet():    \n",
    "    channel_1, channel_2, num_classes = 12, 8, 10\n",
    "    model = ThreeLayerConvNet(channel_1, channel_2, num_classes)\n",
    "    with tf.device(device):\n",
    "        x = tf.zeros((64, 3, 32, 32))\n",
    "        scores = model(x)\n",
    "        print(scores.shape)\n",
    "\n",
    "test_ThreeLayerConvNet()"
   ]
  },
  {
   "cell_type": "markdown",
   "metadata": {
    "id": "oXRffxHG2I9l"
   },
   "source": [
    "### Keras Model Subclassing API: Eager Training\n",
    "\n",
    "While keras models have a builtin training loop (using the `model.fit`), sometimes you need more customization. Here's an example, of a training loop implemented with eager execution.\n",
    "\n",
    "In particular, notice `tf.GradientTape`. Automatic differentiation is used in the backend for implementing backpropagation in frameworks like TensorFlow. During eager execution, `tf.GradientTape` is used to trace operations for computing gradients later. A particular `tf.GradientTape` can only compute one gradient; subsequent calls to tape will throw a runtime error. \n",
    "\n",
    "TensorFlow 2.0 ships with easy-to-use built-in metrics under `tf.keras.metrics` module. Each metric is an object, and we can use `update_state()` to add observations and `reset_state()` to clear all observations. We can get the current result of a metric by calling `result()` on the metric object."
   ]
  },
  {
   "cell_type": "code",
   "execution_count": null,
   "metadata": {
    "id": "LKJmqmV72I9l",
    "tags": [
     "pdf-ignore"
    ]
   },
   "outputs": [],
   "source": [
    "def train_part34(model_init_fn, optimizer_init_fn, num_epochs=1, is_training=False):\n",
    "    \"\"\"\n",
    "    Simple training loop for use with models defined using tf.keras. It trains\n",
    "    a model for one epoch on the CIFAR-10 training set and periodically checks\n",
    "    accuracy on the CIFAR-10 validation set.\n",
    "    \n",
    "    Inputs:\n",
    "    - model_init_fn: A function that takes no parameters; when called it\n",
    "      constructs the model we want to train: model = model_init_fn()\n",
    "    - optimizer_init_fn: A function which takes no parameters; when called it\n",
    "      constructs the Optimizer object we will use to optimize the model:\n",
    "      optimizer = optimizer_init_fn()\n",
    "    - num_epochs: The number of epochs to train for\n",
    "    \n",
    "    Returns: Nothing, but prints progress during trainingn\n",
    "    \"\"\"    \n",
    "    with tf.device(device):\n",
    "\n",
    "        # Compute the loss like we did in Part II\n",
    "        loss_fn = tf.keras.losses.SparseCategoricalCrossentropy()\n",
    "        \n",
    "        model = model_init_fn()\n",
    "        optimizer = optimizer_init_fn()\n",
    "        \n",
    "        train_loss = tf.keras.metrics.Mean(name='train_loss')\n",
    "        train_accuracy = tf.keras.metrics.SparseCategoricalAccuracy(name='train_accuracy')\n",
    "    \n",
    "        val_loss = tf.keras.metrics.Mean(name='val_loss')\n",
    "        val_accuracy = tf.keras.metrics.SparseCategoricalAccuracy(name='val_accuracy')\n",
    "        \n",
    "        t = 0\n",
    "        for epoch in range(num_epochs):\n",
    "            \n",
    "            # Reset the metrics - https://www.tensorflow.org/alpha/guide/migration_guide#new-style_metrics\n",
    "            train_loss.reset_states()\n",
    "            train_accuracy.reset_states()\n",
    "            \n",
    "            for x_np, y_np in train_dset:\n",
    "                with tf.GradientTape() as tape:\n",
    "                    \n",
    "                    # Use the model function to build the forward pass.\n",
    "                    scores = model(x_np, training=is_training)\n",
    "                    loss = loss_fn(y_np, scores)\n",
    "      \n",
    "                    gradients = tape.gradient(loss, model.trainable_variables)\n",
    "                    optimizer.apply_gradients(zip(gradients, model.trainable_variables))\n",
    "                    \n",
    "                    # Update the metrics\n",
    "                    train_loss.update_state(loss)\n",
    "                    train_accuracy.update_state(y_np, scores)\n",
    "                    \n",
    "                    if t % print_every == 0:\n",
    "                        val_loss.reset_states()\n",
    "                        val_accuracy.reset_states()\n",
    "                        for test_x, test_y in val_dset:\n",
    "                            # During validation at end of epoch, training set to False\n",
    "                            prediction = model(test_x, training=False)\n",
    "                            t_loss = loss_fn(test_y, prediction)\n",
    "\n",
    "                            val_loss.update_state(t_loss)\n",
    "                            val_accuracy.update_state(test_y, prediction)\n",
    "                        \n",
    "                        template = 'Iteration {}, Epoch {}, Loss: {:.3f}, Accuracy: {:.3f}, Val Loss: {:.3f}, Val Accuracy: {:.3f}'\n",
    "                        print (template.format(t, epoch+1,\n",
    "                                             train_loss.result(),\n",
    "                                             train_accuracy.result()*100,\n",
    "                                             val_loss.result(),\n",
    "                                             val_accuracy.result()*100))\n",
    "                    t += 1"
   ]
  },
  {
   "cell_type": "markdown",
   "metadata": {
    "id": "Be75nJQS2I9p"
   },
   "source": [
    "### Keras Model Subclassing API: Train a Two-Layer Network\n",
    "We can now use the tools defined above to train a two-layer network on CIFAR-10. We define the `model_init_fn` and `optimizer_init_fn` that construct the model and optimizer respectively when called. Here we want to train the model using stochastic gradient descent with no momentum, so we construct a `tf.keras.optimizers.SGD` function; you can [read about it here](https://www.tensorflow.org/versions/r2.0/api_docs/python/tf/optimizers/SGD).\n",
    "\n",
    "You don't need to tune any hyperparameters here, but you should achieve validation accuracies above 40% after one epoch of training."
   ]
  },
  {
   "cell_type": "code",
   "execution_count": null,
   "metadata": {
    "executionInfo": {
     "elapsed": 9963,
     "status": "ok",
     "timestamp": 1586072094457,
     "user": {
      "displayName": "eyal gomel",
      "photoUrl": "",
      "userId": "05448054368077631446"
     },
     "user_tz": -180
    },
    "id": "Zk8QwQU52I9p",
    "outputId": "ced78fdb-9da4-4d98-f38c-ec8eb2fe7a0a"
   },
   "outputs": [],
   "source": [
    "hidden_size, num_classes = 4000, 10\n",
    "learning_rate = 1e-2\n",
    "\n",
    "def model_init_fn():\n",
    "    return TwoLayerFC(hidden_size, num_classes)\n",
    "\n",
    "def optimizer_init_fn():\n",
    "    return tf.keras.optimizers.SGD(learning_rate=learning_rate)\n",
    "\n",
    "train_part34(model_init_fn, optimizer_init_fn)"
   ]
  },
  {
   "cell_type": "markdown",
   "metadata": {
    "id": "wuzDX4Kg2I9r"
   },
   "source": [
    "### Keras Model Subclassing  API: Train a Three-Layer ConvNet\n",
    "Here you should use the tools we've defined above to train a three-layer ConvNet on CIFAR-10. Your ConvNet should use 32 filters in the first convolutional layer and 16 filters in the second layer.\n",
    "\n",
    "To train the model you should use gradient descent with Nesterov momentum 0.9.  \n",
    "\n",
    "**HINT**: https://www.tensorflow.org/versions/r2.0/api_docs/python/tf/optimizers/SGD\n",
    "\n",
    "You don't need to perform any hyperparameter tuning, but you should achieve validation accuracies above 50% after training for one epoch."
   ]
  },
  {
   "cell_type": "code",
   "execution_count": null,
   "metadata": {
    "executionInfo": {
     "elapsed": 21291,
     "status": "ok",
     "timestamp": 1586072106322,
     "user": {
      "displayName": "eyal gomel",
      "photoUrl": "",
      "userId": "05448054368077631446"
     },
     "user_tz": -180
    },
    "id": "bH0EJz5K2I9r",
    "outputId": "2654ab3a-5f0a-48a6-92e2-1de8307ae313"
   },
   "outputs": [],
   "source": [
    "learning_rate = 3e-3\n",
    "channel_1, channel_2, num_classes = 32, 16, 10\n",
    "\n",
    "def model_init_fn():\n",
    "    model = None\n",
    "    ############################################################################\n",
    "    # TODO: Complete the implementation of model_fn.                           #\n",
    "    ############################################################################\n",
    "    # *****START OF YOUR CODE (DO NOT DELETE/MODIFY THIS LINE)*****\n",
    "\n",
    "    model = ThreeLayerConvNet(channel_1, channel_2, num_classes)\n",
    "\n",
    "    # *****END OF YOUR CODE (DO NOT DELETE/MODIFY THIS LINE)*****\n",
    "    ############################################################################\n",
    "    #                           END OF YOUR CODE                               #\n",
    "    ############################################################################\n",
    "    return model\n",
    "\n",
    "def optimizer_init_fn():\n",
    "    optimizer = None\n",
    "    ############################################################################\n",
    "    # TODO: Complete the implementation of model_fn.                           #\n",
    "    ############################################################################\n",
    "    # *****START OF YOUR CODE (DO NOT DELETE/MODIFY THIS LINE)*****\n",
    "\n",
    "    optimizer = tf.optimizers.SGD(learning_rate=learning_rate,\n",
    "                                  momentum=0.9, nesterov=True)\n",
    "\n",
    "    # *****END OF YOUR CODE (DO NOT DELETE/MODIFY THIS LINE)*****\n",
    "    ############################################################################\n",
    "    #                           END OF YOUR CODE                               #\n",
    "    ############################################################################\n",
    "    return optimizer\n",
    "\n",
    "train_part34(model_init_fn, optimizer_init_fn)"
   ]
  },
  {
   "cell_type": "markdown",
   "metadata": {
    "id": "hb7y7AsZ2I9v"
   },
   "source": [
    "# Part IV: Keras Sequential API\n",
    "In Part III we introduced the `tf.keras.Model` API, which allows you to define models with any number of learnable layers and with arbitrary connectivity between layers.\n",
    "\n",
    "However for many models you don't need such flexibility - a lot of models can be expressed as a sequential stack of layers, with the output of each layer fed to the next layer as input. If your model fits this pattern, then there is an even easier way to define your model: using `tf.keras.Sequential`. You don't need to write any custom classes; you simply call the `tf.keras.Sequential` constructor with a list containing a sequence of layer objects.\n",
    "\n",
    "One complication with `tf.keras.Sequential` is that you must define the shape of the input to the model by passing a value to the `input_shape` of the first layer in your model.\n",
    "\n",
    "### Keras Sequential API: Two-Layer Network\n",
    "In this subsection, we will rewrite the two-layer fully-connected network using `tf.keras.Sequential`, and train it using the training loop defined above.\n",
    "\n",
    "You don't need to perform any hyperparameter tuning here, but you should see validation accuracies above 40% after training for one epoch."
   ]
  },
  {
   "cell_type": "code",
   "execution_count": null,
   "metadata": {
    "executionInfo": {
     "elapsed": 29775,
     "status": "ok",
     "timestamp": 1586072115626,
     "user": {
      "displayName": "eyal gomel",
      "photoUrl": "",
      "userId": "05448054368077631446"
     },
     "user_tz": -180
    },
    "id": "-doC_3eu2I9w",
    "outputId": "df0574e3-e830-47aa-9d10-26c964554e43"
   },
   "outputs": [],
   "source": [
    "learning_rate = 1e-2\n",
    "\n",
    "def model_init_fn():\n",
    "    input_shape = (32, 32, 3)\n",
    "    hidden_layer_size, num_classes = 4000, 10\n",
    "    initializer = tf.initializers.VarianceScaling(scale=2.0)\n",
    "    layers = [\n",
    "        tf.keras.layers.Flatten(input_shape=input_shape),\n",
    "        tf.keras.layers.Dense(hidden_layer_size, activation='relu',\n",
    "                              kernel_initializer=initializer),\n",
    "        tf.keras.layers.Dense(num_classes, activation='softmax', \n",
    "                              kernel_initializer=initializer),\n",
    "    ]\n",
    "    model = tf.keras.Sequential(layers)\n",
    "    return model\n",
    "\n",
    "def optimizer_init_fn():\n",
    "    return tf.keras.optimizers.SGD(learning_rate=learning_rate) \n",
    "\n",
    "train_part34(model_init_fn, optimizer_init_fn)"
   ]
  },
  {
   "cell_type": "markdown",
   "metadata": {
    "id": "q6Z_PlXD2I9y"
   },
   "source": [
    "### Abstracting Away the Training Loop\n",
    "In the previous examples, we used a customised training loop to train models (e.g. `train_part34`). Writing your own training loop is only required if you need more flexibility and control during training your model. Alternately, you can also use  built-in APIs like `tf.keras.Model.fit()` and `tf.keras.Model.evaluate` to train and evaluate a model. Also remember to configure your model for training by calling `tf.keras.Model.compile.\n",
    "\n",
    "You don't need to perform any hyperparameter tuning here, but you should see validation and test accuracies above 42% after training for one epoch."
   ]
  },
  {
   "cell_type": "code",
   "execution_count": null,
   "metadata": {
    "executionInfo": {
     "elapsed": 31905,
     "status": "ok",
     "timestamp": 1586072120273,
     "user": {
      "displayName": "eyal gomel",
      "photoUrl": "",
      "userId": "05448054368077631446"
     },
     "user_tz": -180
    },
    "id": "Fa9riw5a2I9y",
    "outputId": "112457e5-c4f6-452a-94fd-2103378bb839"
   },
   "outputs": [],
   "source": [
    "model = model_init_fn()\n",
    "model.compile(optimizer=tf.keras.optimizers.SGD(learning_rate=learning_rate),\n",
    "              loss='sparse_categorical_crossentropy',\n",
    "              metrics=[tf.keras.metrics.sparse_categorical_accuracy])\n",
    "model.fit(X_train, y_train, batch_size=64, epochs=1, validation_data=(X_val, y_val))\n",
    "model.evaluate(X_test, y_test)"
   ]
  },
  {
   "cell_type": "markdown",
   "metadata": {
    "id": "63Pwtn8i2I90"
   },
   "source": [
    "### Keras Sequential API: Three-Layer ConvNet\n",
    "Here you should use `tf.keras.Sequential` to reimplement the same three-layer ConvNet architecture used in Part II and Part III. As a reminder, your model should have the following architecture:\n",
    "\n",
    "1. Convolutional layer with 32 5x5 kernels, using zero padding of 2\n",
    "2. ReLU nonlinearity\n",
    "3. Convolutional layer with 16 3x3 kernels, using zero padding of 1\n",
    "4. ReLU nonlinearity\n",
    "5. Fully-connected layer giving class scores\n",
    "6. Softmax nonlinearity\n",
    "\n",
    "You should initialize the weights of the model using a `tf.initializers.VarianceScaling` as above.\n",
    "\n",
    "You should train the model using Nesterov momentum 0.9.\n",
    "\n",
    "You don't need to perform any hyperparameter search, but you should achieve accuracy above 45% after training for one epoch."
   ]
  },
  {
   "cell_type": "code",
   "execution_count": null,
   "metadata": {
    "executionInfo": {
     "elapsed": 41152,
     "status": "ok",
     "timestamp": 1586072131386,
     "user": {
      "displayName": "eyal gomel",
      "photoUrl": "",
      "userId": "05448054368077631446"
     },
     "user_tz": -180
    },
    "id": "wUQTvhHd2I90",
    "outputId": "966193e3-b8b2-4cb7-bd9a-a750b8a2b62d"
   },
   "outputs": [],
   "source": [
    "def model_init_fn():\n",
    "    model = None\n",
    "    ############################################################################\n",
    "    # TODO: Construct a three-layer ConvNet using tf.keras.Sequential.         #\n",
    "    ############################################################################\n",
    "    # *****START OF YOUR CODE (DO NOT DELETE/MODIFY THIS LINE)*****\n",
    "\n",
    "    initializer = tf.initializers.VarianceScaling(scale=2.0)\n",
    "    model = tf.keras.Sequential([Conv2D(filters=32, kernel_size=(5,5), padding='same',\n",
    "                                       kernel_initializer=initializer, activation=tf.nn.relu),\n",
    "                                Conv2D(filters=16, kernel_size=(3,3), padding='same',\n",
    "                                       kernel_initializer=initializer, activation=tf.nn.relu),\n",
    "                                Flatten(),\n",
    "                                Dense(num_classes, kernel_initializer=initializer, activation=tf.nn.softmax)]\n",
    "                               )\n",
    "\n",
    "    # *****END OF YOUR CODE (DO NOT DELETE/MODIFY THIS LINE)*****\n",
    "    ############################################################################\n",
    "    #                            END OF YOUR CODE                              #\n",
    "    ############################################################################\n",
    "    return model\n",
    "\n",
    "learning_rate = 5e-4\n",
    "def optimizer_init_fn():\n",
    "    optimizer = None\n",
    "    ############################################################################\n",
    "    # TODO: Complete the implementation of model_fn.                           #\n",
    "    ############################################################################\n",
    "    # *****START OF YOUR CODE (DO NOT DELETE/MODIFY THIS LINE)*****\n",
    "\n",
    "    optimizer = tf.optimizers.SGD(learning_rate=learning_rate,\n",
    "                                  momentum=0.9, nesterov=True)\n",
    "\n",
    "    # *****END OF YOUR CODE (DO NOT DELETE/MODIFY THIS LINE)*****\n",
    "    ############################################################################\n",
    "    #                           END OF YOUR CODE                               #\n",
    "    ############################################################################\n",
    "    return optimizer\n",
    "\n",
    "train_part34(model_init_fn, optimizer_init_fn)"
   ]
  },
  {
   "cell_type": "markdown",
   "metadata": {
    "id": "xm3303DH2I93"
   },
   "source": [
    "We will also train this model with the built-in training loop APIs provided by TensorFlow."
   ]
  },
  {
   "cell_type": "code",
   "execution_count": null,
   "metadata": {
    "executionInfo": {
     "elapsed": 44389,
     "status": "ok",
     "timestamp": 1586072136322,
     "user": {
      "displayName": "eyal gomel",
      "photoUrl": "",
      "userId": "05448054368077631446"
     },
     "user_tz": -180
    },
    "id": "LQoSy-fD2I93",
    "outputId": "7a93e9ae-1fbc-4141-c661-ee4354d56db8"
   },
   "outputs": [],
   "source": [
    "model = model_init_fn()\n",
    "model.compile(optimizer='sgd',\n",
    "              loss='sparse_categorical_crossentropy',\n",
    "              metrics=[tf.keras.metrics.sparse_categorical_accuracy])\n",
    "model.fit(X_train, y_train, batch_size=64, epochs=1, validation_data=(X_val, y_val))\n",
    "model.evaluate(X_test, y_test)"
   ]
  },
  {
   "cell_type": "markdown",
   "metadata": {
    "id": "Vk99UGuq2I96"
   },
   "source": [
    "##  Part IV: Functional API\n",
    "### Demonstration with a Two-Layer Network \n",
    "\n",
    "In the previous section, we saw how we can use `tf.keras.Sequential` to stack layers to quickly build simple models. But this comes at the cost of losing flexibility.\n",
    "\n",
    "Often we will have to write complex models that have non-sequential data flows: a layer can have **multiple inputs and/or outputs**, such as stacking the output of 2 previous layers together to feed as input to a third! (Some examples are residual connections and dense blocks.)\n",
    "\n",
    "In such cases, we can use Keras functional API to write models with complex topologies such as:\n",
    "\n",
    " 1. Multi-input models\n",
    " 2. Multi-output models\n",
    " 3. Models with shared layers (the same layer called several times)\n",
    " 4. Models with non-sequential data flows (e.g. residual connections)\n",
    "\n",
    "Writing a model with Functional API requires us to create a `tf.keras.Model` instance and explicitly write input tensors and output tensors for this model. "
   ]
  },
  {
   "cell_type": "code",
   "execution_count": null,
   "metadata": {
    "executionInfo": {
     "elapsed": 1479,
     "status": "ok",
     "timestamp": 1586269964501,
     "user": {
      "displayName": "eyal gomel",
      "photoUrl": "",
      "userId": "05448054368077631446"
     },
     "user_tz": -180
    },
    "id": "VEXJAE1j2I96",
    "outputId": "934a5144-e1cb-47ee-8a61-acc1ddceff93",
    "tags": [
     "pdf-ignore"
    ]
   },
   "outputs": [],
   "source": [
    "def two_layer_fc_functional(input_shape, hidden_size, num_classes):  \n",
    "    initializer = tf.initializers.VarianceScaling(scale=2.0)\n",
    "    inputs = tf.keras.Input(shape=input_shape)\n",
    "    flattened_inputs = tf.keras.layers.Flatten()(inputs)\n",
    "    fc1_output = tf.keras.layers.Dense(hidden_size, activation='relu',\n",
    "                                 kernel_initializer=initializer)(flattened_inputs)\n",
    "    scores = tf.keras.layers.Dense(num_classes, activation='softmax',\n",
    "                             kernel_initializer=initializer)(fc1_output)\n",
    "\n",
    "    # Instantiate the model given inputs and outputs.\n",
    "    model = tf.keras.Model(inputs=inputs, outputs=scores)\n",
    "    return model\n",
    "\n",
    "def test_two_layer_fc_functional():\n",
    "    \"\"\" A small unit test to exercise the TwoLayerFC model above. \"\"\"\n",
    "    input_size, hidden_size, num_classes = 50, 42, 10\n",
    "    input_shape = (50,)\n",
    "    \n",
    "    x = tf.zeros((64, input_size))\n",
    "    model = two_layer_fc_functional(input_shape, hidden_size, num_classes)\n",
    "    \n",
    "    with tf.device(device):\n",
    "        scores = model(x)\n",
    "        print(scores.shape)\n",
    "\n",
    "test_two_layer_fc_functional()"
   ]
  },
  {
   "cell_type": "markdown",
   "metadata": {
    "id": "3AuuIeZF2I98"
   },
   "source": [
    "### Keras Functional API: Train a Two-Layer Network\n",
    "You can now train this two-layer network constructed using the functional API.\n",
    "\n",
    "You don't need to perform any hyperparameter tuning here, but you should see validation accuracies above 40% after training for one epoch."
   ]
  },
  {
   "cell_type": "code",
   "execution_count": null,
   "metadata": {
    "executionInfo": {
     "elapsed": 50325,
     "status": "ok",
     "timestamp": 1586072145748,
     "user": {
      "displayName": "eyal gomel",
      "photoUrl": "",
      "userId": "05448054368077631446"
     },
     "user_tz": -180
    },
    "id": "UBF1U9D12I99",
    "outputId": "340f2eee-1101-41a5-f754-e70e88c6a7b9"
   },
   "outputs": [],
   "source": [
    "input_shape = (32, 32, 3)\n",
    "hidden_size, num_classes = 4000, 10\n",
    "learning_rate = 1e-2\n",
    "\n",
    "def model_init_fn():\n",
    "    return two_layer_fc_functional(input_shape, hidden_size, num_classes)\n",
    "\n",
    "def optimizer_init_fn():\n",
    "    return tf.keras.optimizers.SGD(learning_rate=learning_rate)\n",
    "\n",
    "train_part34(model_init_fn, optimizer_init_fn)"
   ]
  },
  {
   "cell_type": "markdown",
   "metadata": {
    "id": "7eJu-WpP2I9_"
   },
   "source": [
    "# Part V: CIFAR-10 open-ended challenge\n",
    "\n",
    "In this section you can experiment with whatever ConvNet architecture you'd like on CIFAR-10.\n",
    "\n",
    "You should experiment with architectures, hyperparameters, loss functions, regularization, or anything else you can think of to train a model that achieves **at least 70%** accuracy on the **validation** set within 10 epochs. You can use the built-in train function, the `train_part34` function from above, or implement your own training loop.\n",
    "\n",
    "Describe what you did at the end of the notebook.\n",
    "\n",
    "### Some things you can try:\n",
    "- **Filter size**: Above we used 5x5 and 3x3; is this optimal?\n",
    "- **Number of filters**: Above we used 16 and 32 filters. Would more or fewer do better?\n",
    "- **Pooling**: We didn't use any pooling above. Would this improve the model?\n",
    "- **Normalization**: Would your model be improved with batch normalization, layer normalization, group normalization, or some other normalization strategy?\n",
    "- **Network architecture**: The ConvNet above has only three layers of trainable parameters. Would a deeper model do better?\n",
    "- **Global average pooling**: Instead of flattening after the final convolutional layer, would global average pooling do better? This strategy is used for example in Google's Inception network and in Residual Networks.\n",
    "- **Regularization**: Would some kind of regularization improve performance? Maybe weight decay or dropout?\n",
    "\n",
    "### NOTE: Batch Normalization / Dropout\n",
    "If you are using Batch Normalization and Dropout, remember to pass `is_training=True` if you use the `train_part34()` function. BatchNorm and Dropout layers have different behaviors at training and inference time. `training` is a specific keyword argument reserved for this purpose in any `tf.keras.Model`'s `call()` function. Read more about this here : https://www.tensorflow.org/versions/r2.0/api_docs/python/tf/keras/layers/BatchNormalization#methods\n",
    "https://www.tensorflow.org/versions/r2.0/api_docs/python/tf/keras/layers/Dropout#methods\n",
    "\n",
    "### Tips for training\n",
    "For each network architecture that you try, you should tune the learning rate and other hyperparameters. When doing this there are a couple important things to keep in mind: \n",
    "\n",
    "- If the parameters are working well, you should see improvement within a few hundred iterations\n",
    "- Remember the coarse-to-fine approach for hyperparameter tuning: start by testing a large range of hyperparameters for just a few training iterations to find the combinations of parameters that are working at all.\n",
    "- Once you have found some sets of parameters that seem to work, search more finely around these parameters. You may need to train for more epochs.\n",
    "- You should use the validation set for hyperparameter search, and save your test set for evaluating your architecture on the best parameters as selected by the validation set.\n",
    "\n",
    "### Going above and beyond\n",
    "If you are feeling adventurous there are many other features you can implement to try and improve your performance. You are **not required** to implement any of these, but don't miss the fun if you have time!\n",
    "\n",
    "- Alternative optimizers: you can try Adam, Adagrad, RMSprop, etc.\n",
    "- Alternative activation functions such as leaky ReLU, parametric ReLU, ELU, or MaxOut.\n",
    "- Model ensembles\n",
    "- Data augmentation\n",
    "- New Architectures\n",
    "  - [ResNets](https://arxiv.org/abs/1512.03385) where the input from the previous layer is added to the output.\n",
    "  - [DenseNets](https://arxiv.org/abs/1608.06993) where inputs into previous layers are concatenated together.\n",
    "  - [This blog has an in-depth overview](https://chatbotslife.com/resnets-highwaynets-and-densenets-oh-my-9bb15918ee32)\n",
    "  \n",
    "### Have fun and happy training! "
   ]
  },
  {
   "cell_type": "code",
   "execution_count": 5,
   "metadata": {
    "id": "0L5bfqA64YVY"
   },
   "outputs": [],
   "source": [
    "from tensorflow.keras.models import Model\n",
    "from tensorflow.keras.layers import Input, Conv2D, Dense, Flatten, ReLU, LeakyReLU, Dropout, \\\n",
    "BatchNormalization, MaxPool2D, Add, AveragePooling2D, GlobalMaxPool2D, GlobalAveragePooling2D, \\\n",
    "ZeroPadding2D, Concatenate, Activation\n",
    "from tensorflow.keras.regularizers import l2\n",
    "from tensorflow.keras.initializers import he_uniform\n",
    "from tensorflow.keras.utils import plot_model\n",
    "from tensorflow.keras.callbacks import ReduceLROnPlateau, EarlyStopping, ModelCheckpoint\n",
    "AUTOTUNE = tf.data.experimental.AUTOTUNE"
   ]
  },
  {
   "cell_type": "code",
   "execution_count": 6,
   "metadata": {},
   "outputs": [],
   "source": [
    "USE_TPU = True\n",
    "if USE_TPU:\n",
    "    # detect and init the TPU\n",
    "    tpu = tf.distribute.cluster_resolver.TPUClusterResolver()\n",
    "    tf.config.experimental_connect_to_cluster(tpu)\n",
    "    tf.tpu.experimental.initialize_tpu_system(tpu)\n",
    "\n",
    "    # instantiate a distribution strategy\n",
    "    tpu_strategy = tf.distribute.experimental.TPUStrategy(tpu)"
   ]
  },
  {
   "cell_type": "code",
   "execution_count": 18,
   "metadata": {
    "id": "vKU_eUuz2I9_"
   },
   "outputs": [],
   "source": [
    "class CustomConvNet(tf.keras.Model):\n",
    "    def __init__(self, input_shape=(32, 32, 3), num_classes=10, activation=LeakyReLU, reg=2e-4, drop_rate=0.4):\n",
    "        super(CustomConvNet, self).__init__()\n",
    "        ############################################################################\n",
    "        # TODO: Construct a model that performs well on CIFAR-10                   #\n",
    "        ############################################################################\n",
    "        # *****START OF YOUR CODE (DO NOT DELETE/MODIFY THIS LINE)*****\n",
    "\n",
    "        self.activation = activation\n",
    "        self.reg = l2(reg)\n",
    "        self.drop_rate = drop_rate\n",
    "        self.kernel_init = he_uniform(seed=42)\n",
    "        self.ch_axis = 3\n",
    "        self.K = 32\n",
    "        \n",
    "        inputs = Input(shape=input_shape)\n",
    "        x = Conv2D(64, 3, kernel_regularizer=self.reg, padding='same', use_bias=False)(inputs)\n",
    "        x = BatchNormalization(axis=self.ch_axis)(x)\n",
    "        x = self.activation()(x)\n",
    "        x = MaxPool2D()(x)\n",
    "\n",
    "        for i in [12, 24, 8]:\n",
    "          d = self.dense_block(x, i)\n",
    "          x = self.transition(d)\n",
    "\n",
    "        x = GlobalAveragePooling2D()(d)\n",
    "        x = Dropout(0.5)(x)\n",
    "        x = Dense(128)(x)\n",
    "        x = self.activation()(x)\n",
    "                   \n",
    "        outputs = Dense(num_classes, activation='softmax')(x)\n",
    "\n",
    "        self.model = Model(inputs=inputs, outputs=outputs)\n",
    "\n",
    "        # *****END OF YOUR CODE (DO NOT DELETE/MODIFY THIS LINE)*****\n",
    "        ############################################################################\n",
    "        #                            END OF YOUR CODE                              #\n",
    "        ############################################################################\n",
    "    \n",
    "    def call(self, input_tensor, training=False):\n",
    "        ############################################################################\n",
    "        # TODO: Construct a model that performs well on CIFAR-10                   #\n",
    "        ############################################################################\n",
    "        # *****START OF YOUR CODE (DO NOT DELETE/MODIFY THIS LINE)*****\n",
    "        \n",
    "        x = self.model(input_tensor)\n",
    "\n",
    "        # *****END OF YOUR CODE (DO NOT DELETE/MODIFY THIS LINE)*****\n",
    "        ############################################################################\n",
    "        #                            END OF YOUR CODE                              #\n",
    "        ############################################################################\n",
    "        \n",
    "        return x\n",
    "    \n",
    "    def bn_relu_conv(self, x, filters, kernel_size, padding='valid', strides=1):\n",
    "      x = BatchNormalization(axis=self.ch_axis)(x)\n",
    "      x = self.activation()(x)\n",
    "      x = Conv2D(filters=filters, kernel_size=kernel_size, padding=padding, strides=strides,\n",
    "                 kernel_initializer=self.kernel_init, kernel_regularizer=self.reg, use_bias=False)(x)\n",
    "      return x\n",
    "\n",
    "    def bn_fc_relu_drop(self, x, units):\n",
    "      x = BatchNormalization()(x)\n",
    "      x = Dense(units, kernel_regularizer=self.reg)(x)\n",
    "      x = self.activation()(x)\n",
    "      x = Dropout(self.drop_rate)(x)\n",
    "      return x\n",
    "\n",
    "    def transition(self, x):\n",
    "      x = self.bn_relu_conv(x, int(x.shape[-1] // 2), 1, padding='same')\n",
    "      if self.drop_rate:\n",
    "        x = Dropout(self.drop_rate)(x)\n",
    "      x = AveragePooling2D(2, strides=2)(x)\n",
    "      return x\n",
    "\n",
    "    def dense_block(self, x, n):\n",
    "      for _ in range(n):\n",
    "        x_tmp = x\n",
    "        x = self.bn_relu_conv(x, self.K*4, 1)          \n",
    "        x = self.bn_relu_conv(x, self.K, 3, padding='same')\n",
    "\n",
    "        if self.drop_rate:\n",
    "          x = Dropout(self.drop_rate)(x)\n",
    "\n",
    "        x = Concatenate()([x_tmp, x])\n",
    "      return x\n",
    "\n",
    "device = '/device:GPU:0'   # Change this to a CPU/GPU as you wish!\n",
    "# device = '/cpu:0'        # Change this to a CPU/GPU as you wish!\n",
    "print_every = 500\n",
    "num_epochs = 10\n",
    "\n",
    "def model_init_fn():\n",
    "    return CustomConvNet()\n",
    "\n",
    "def optimizer_init_fn(learning_rate=1e-3):\n",
    "    return tf.keras.optimizers.Adam(learning_rate)"
   ]
  },
  {
   "cell_type": "code",
   "execution_count": 23,
   "metadata": {
    "id": "AAaGACG5e8G4"
   },
   "outputs": [],
   "source": [
    "# data preperations\n",
    "def augment(image,label):\n",
    "  image = tf.image.random_flip_left_right(image)\n",
    "  image = tf.image.random_brightness(image, max_delta=0.5)\n",
    "#   image = tf.image.random_saturation(image, 0.7, 1.3)\n",
    "  image = tf.image.random_contrast(image, 0.7, 1.3)\n",
    "  image = tf.image.resize_with_crop_or_pad(image, 48, 48)\n",
    "  image = tf.image.random_crop(image, size=[32, 32, 3])\n",
    "\n",
    "  return image,label\n",
    "\n",
    "BATCH_SIZE = 1024\n",
    "num_train_examples = len(X_train)\n",
    "train_dataset = tf.data.Dataset.from_tensor_slices((X_train, y_train))\n",
    "val_dataset = tf.data.Dataset.from_tensor_slices((X_val, y_val))\n",
    "\n",
    "augmented_train_batches = (\n",
    "    train_dataset\n",
    "    .cache()\n",
    "    .shuffle(num_train_examples)\n",
    "    .map(augment, num_parallel_calls=AUTOTUNE)\n",
    "    .batch(BATCH_SIZE)\n",
    "    .prefetch(AUTOTUNE)\n",
    "    ) \n",
    "\n",
    "non_augmented_train_batches = (\n",
    "    train_dataset\n",
    "    .cache()\n",
    "    .shuffle(num_train_examples)\n",
    "    .batch(BATCH_SIZE)\n",
    "    .prefetch(AUTOTUNE)\n",
    "    )\n",
    "\n",
    "validation_batches = (\n",
    "    val_dataset\n",
    "    .batch(BATCH_SIZE)\n",
    "    )"
   ]
  },
  {
   "cell_type": "code",
   "execution_count": 37,
   "metadata": {},
   "outputs": [],
   "source": [
    "learning_rate = 1e-3\n",
    "clipnorm = 1e-3\n",
    "lrr = ReduceLROnPlateau(monitor='val_loss',\n",
    "                        factor=0.7,\n",
    "                        patience=7,\n",
    "                        min_lr=1e-6, \n",
    "                        verbose=1)\n",
    "\n",
    "opt = tf.keras.optimizers.Adam(learning_rate, clipnorm=clipnorm)\n",
    "\n",
    "model_path = '/kaggle/working/best_model.hdf5'\n",
    "mcp = ModelCheckpoint(model_path, save_best_only=True, monitor='val_loss', mode='min')"
   ]
  },
  {
   "cell_type": "code",
   "execution_count": 38,
   "metadata": {},
   "outputs": [],
   "source": [
    "if USE_TPU:\n",
    "    with tpu_strategy.scope():\n",
    "        model = CustomConvNet()\n",
    "        model.compile(opt,\n",
    "                      loss='sparse_categorical_crossentropy',\n",
    "                      metrics=['accuracy'])\n",
    "else:\n",
    "    model = CustomConvNet()\n",
    "    model.compile(opt,\n",
    "                  loss='sparse_categorical_crossentropy',\n",
    "                  metrics=['accuracy'])"
   ]
  },
  {
   "cell_type": "code",
   "execution_count": 39,
   "metadata": {},
   "outputs": [
    {
     "name": "stdout",
     "output_type": "stream",
     "text": [
      "Train for 48 steps, validate for 1 steps\n",
      "Epoch 1/300\n",
      "48/48 [==============================] - 149s 3s/step - loss: 4.8647 - accuracy: 0.2903 - val_loss: 5.8684 - val_accuracy: 0.1700\n",
      "Epoch 2/300\n",
      "48/48 [==============================] - 6s 131ms/step - loss: 3.9888 - accuracy: 0.4300 - val_loss: 6.4191 - val_accuracy: 0.1440\n",
      "Epoch 3/300\n",
      "48/48 [==============================] - 6s 128ms/step - loss: 3.3830 - accuracy: 0.5082 - val_loss: 8.1104 - val_accuracy: 0.1470\n",
      "Epoch 4/300\n",
      "48/48 [==============================] - 6s 130ms/step - loss: 2.9493 - accuracy: 0.5524 - val_loss: 7.8074 - val_accuracy: 0.1180\n",
      "Epoch 5/300\n",
      "48/48 [==============================] - 8s 170ms/step - loss: 2.6013 - accuracy: 0.5846 - val_loss: 5.1139 - val_accuracy: 0.1780\n",
      "Epoch 6/300\n",
      "48/48 [==============================] - 6s 129ms/step - loss: 2.3598 - accuracy: 0.6071 - val_loss: 5.2303 - val_accuracy: 0.2190\n",
      "Epoch 7/300\n",
      "48/48 [==============================] - 8s 169ms/step - loss: 2.1359 - accuracy: 0.6336 - val_loss: 3.5233 - val_accuracy: 0.3570\n",
      "Epoch 8/300\n",
      "48/48 [==============================] - 8s 168ms/step - loss: 1.9626 - accuracy: 0.6561 - val_loss: 2.8949 - val_accuracy: 0.4980\n",
      "Epoch 9/300\n",
      "48/48 [==============================] - 8s 170ms/step - loss: 1.8270 - accuracy: 0.6707 - val_loss: 2.5123 - val_accuracy: 0.5440\n",
      "Epoch 10/300\n",
      "48/48 [==============================] - 8s 170ms/step - loss: 1.7097 - accuracy: 0.6848 - val_loss: 2.1673 - val_accuracy: 0.5520\n",
      "Epoch 11/300\n",
      "48/48 [==============================] - 8s 173ms/step - loss: 1.6047 - accuracy: 0.7036 - val_loss: 2.0927 - val_accuracy: 0.5890\n",
      "Epoch 12/300\n",
      "48/48 [==============================] - 8s 167ms/step - loss: 1.5251 - accuracy: 0.7089 - val_loss: 1.7274 - val_accuracy: 0.6630\n",
      "Epoch 13/300\n",
      "48/48 [==============================] - 8s 175ms/step - loss: 1.4432 - accuracy: 0.7223 - val_loss: 1.6769 - val_accuracy: 0.6600\n",
      "Epoch 14/300\n",
      "48/48 [==============================] - 8s 175ms/step - loss: 1.3819 - accuracy: 0.7325 - val_loss: 1.6187 - val_accuracy: 0.6720\n",
      "Epoch 15/300\n",
      "48/48 [==============================] - 8s 168ms/step - loss: 1.3319 - accuracy: 0.7337 - val_loss: 1.3263 - val_accuracy: 0.7440\n",
      "Epoch 16/300\n",
      "48/48 [==============================] - 6s 130ms/step - loss: 1.2784 - accuracy: 0.7423 - val_loss: 1.3450 - val_accuracy: 0.7400\n",
      "Epoch 17/300\n",
      "48/48 [==============================] - 6s 130ms/step - loss: 1.2324 - accuracy: 0.7485 - val_loss: 1.4145 - val_accuracy: 0.7030\n",
      "Epoch 18/300\n",
      "48/48 [==============================] - 8s 166ms/step - loss: 1.1900 - accuracy: 0.7536 - val_loss: 1.1871 - val_accuracy: 0.7740\n",
      "Epoch 19/300\n",
      "48/48 [==============================] - 6s 131ms/step - loss: 1.1700 - accuracy: 0.7535 - val_loss: 1.3703 - val_accuracy: 0.7300\n",
      "Epoch 20/300\n",
      "48/48 [==============================] - 6s 132ms/step - loss: 1.1307 - accuracy: 0.7604 - val_loss: 1.4431 - val_accuracy: 0.6910\n",
      "Epoch 21/300\n",
      "48/48 [==============================] - 8s 169ms/step - loss: 1.1077 - accuracy: 0.7608 - val_loss: 1.0227 - val_accuracy: 0.7980\n",
      "Epoch 22/300\n",
      "48/48 [==============================] - 6s 131ms/step - loss: 1.0819 - accuracy: 0.7659 - val_loss: 1.4159 - val_accuracy: 0.7180\n",
      "Epoch 23/300\n",
      "48/48 [==============================] - 8s 175ms/step - loss: 1.0534 - accuracy: 0.7708 - val_loss: 1.0220 - val_accuracy: 0.7780\n",
      "Epoch 24/300\n",
      "48/48 [==============================] - 6s 127ms/step - loss: 1.0340 - accuracy: 0.7746 - val_loss: 1.3526 - val_accuracy: 0.7010\n",
      "Epoch 25/300\n",
      "48/48 [==============================] - 6s 132ms/step - loss: 1.0095 - accuracy: 0.7796 - val_loss: 1.0874 - val_accuracy: 0.7580\n",
      "Epoch 26/300\n",
      "48/48 [==============================] - 6s 128ms/step - loss: 0.9806 - accuracy: 0.7843 - val_loss: 1.0600 - val_accuracy: 0.7740\n",
      "Epoch 27/300\n",
      "48/48 [==============================] - 8s 173ms/step - loss: 0.9652 - accuracy: 0.7854 - val_loss: 0.9829 - val_accuracy: 0.7910\n",
      "Epoch 28/300\n",
      "48/48 [==============================] - 6s 130ms/step - loss: 0.9529 - accuracy: 0.7869 - val_loss: 1.0276 - val_accuracy: 0.7660\n",
      "Epoch 29/300\n",
      "48/48 [==============================] - 6s 130ms/step - loss: 0.9326 - accuracy: 0.7917 - val_loss: 1.0068 - val_accuracy: 0.7660\n",
      "Epoch 30/300\n",
      "48/48 [==============================] - 8s 176ms/step - loss: 0.9190 - accuracy: 0.7940 - val_loss: 0.8718 - val_accuracy: 0.8260\n",
      "Epoch 31/300\n",
      "48/48 [==============================] - 6s 131ms/step - loss: 0.9110 - accuracy: 0.7932 - val_loss: 1.0194 - val_accuracy: 0.7780\n",
      "Epoch 32/300\n",
      "48/48 [==============================] - 6s 128ms/step - loss: 0.8890 - accuracy: 0.8003 - val_loss: 0.9303 - val_accuracy: 0.8030\n",
      "Epoch 33/300\n",
      "48/48 [==============================] - 6s 131ms/step - loss: 0.8864 - accuracy: 0.7990 - val_loss: 0.9295 - val_accuracy: 0.7800\n",
      "Epoch 34/300\n",
      "48/48 [==============================] - 6s 129ms/step - loss: 0.8744 - accuracy: 0.8013 - val_loss: 1.0594 - val_accuracy: 0.7840\n",
      "Epoch 35/300\n",
      "48/48 [==============================] - 6s 130ms/step - loss: 0.8586 - accuracy: 0.8056 - val_loss: 0.8855 - val_accuracy: 0.8100\n",
      "Epoch 36/300\n",
      "48/48 [==============================] - 6s 129ms/step - loss: 0.8450 - accuracy: 0.8069 - val_loss: 0.9082 - val_accuracy: 0.8070\n",
      "Epoch 37/300\n",
      "48/48 [==============================] - 8s 169ms/step - loss: 0.8432 - accuracy: 0.8076 - val_loss: 0.8279 - val_accuracy: 0.8120\n",
      "Epoch 38/300\n",
      "48/48 [==============================] - 6s 129ms/step - loss: 0.8380 - accuracy: 0.8060 - val_loss: 0.9455 - val_accuracy: 0.7970\n",
      "Epoch 39/300\n",
      "48/48 [==============================] - 6s 128ms/step - loss: 0.8258 - accuracy: 0.8086 - val_loss: 0.8386 - val_accuracy: 0.8210\n",
      "Epoch 40/300\n",
      "48/48 [==============================] - 8s 173ms/step - loss: 0.8103 - accuracy: 0.8156 - val_loss: 0.7826 - val_accuracy: 0.8370\n",
      "Epoch 41/300\n",
      "48/48 [==============================] - 6s 129ms/step - loss: 0.8078 - accuracy: 0.8141 - val_loss: 0.8730 - val_accuracy: 0.8090\n",
      "Epoch 42/300\n",
      "48/48 [==============================] - 6s 129ms/step - loss: 0.8045 - accuracy: 0.8147 - val_loss: 0.8482 - val_accuracy: 0.7950\n",
      "Epoch 43/300\n",
      "48/48 [==============================] - 6s 132ms/step - loss: 0.7950 - accuracy: 0.8160 - val_loss: 0.8639 - val_accuracy: 0.8150\n",
      "Epoch 44/300\n",
      "48/48 [==============================] - 6s 135ms/step - loss: 0.7836 - accuracy: 0.8197 - val_loss: 0.8480 - val_accuracy: 0.8170\n",
      "Epoch 45/300\n",
      "48/48 [==============================] - 6s 129ms/step - loss: 0.7700 - accuracy: 0.8235 - val_loss: 1.0587 - val_accuracy: 0.7490\n",
      "Epoch 46/300\n",
      "48/48 [==============================] - 8s 173ms/step - loss: 0.7785 - accuracy: 0.8192 - val_loss: 0.7064 - val_accuracy: 0.8520\n",
      "Epoch 47/300\n",
      "48/48 [==============================] - 6s 129ms/step - loss: 0.7798 - accuracy: 0.8187 - val_loss: 0.8201 - val_accuracy: 0.8180\n",
      "Epoch 48/300\n",
      "48/48 [==============================] - 6s 133ms/step - loss: 0.7612 - accuracy: 0.8237 - val_loss: 0.7174 - val_accuracy: 0.8460\n",
      "Epoch 49/300\n",
      "48/48 [==============================] - 6s 129ms/step - loss: 0.7493 - accuracy: 0.8278 - val_loss: 0.8345 - val_accuracy: 0.8080\n",
      "Epoch 50/300\n",
      "48/48 [==============================] - 6s 130ms/step - loss: 0.7499 - accuracy: 0.8280 - val_loss: 0.9137 - val_accuracy: 0.8080\n",
      "Epoch 51/300\n",
      "48/48 [==============================] - 6s 130ms/step - loss: 0.7478 - accuracy: 0.8266 - val_loss: 0.8175 - val_accuracy: 0.8170\n",
      "Epoch 52/300\n",
      "48/48 [==============================] - 6s 129ms/step - loss: 0.7473 - accuracy: 0.8276 - val_loss: 0.7424 - val_accuracy: 0.8380\n",
      "Epoch 53/300\n",
      "47/48 [============================>.] - ETA: 0s - loss: 0.7269 - accuracy: 0.8337\n",
      "Epoch 00053: ReduceLROnPlateau reducing learning rate to 0.0007000000332482159.\n",
      "48/48 [==============================] - 6s 130ms/step - loss: 0.7262 - accuracy: 0.8339 - val_loss: 0.8238 - val_accuracy: 0.8200\n",
      "Epoch 54/300\n",
      "48/48 [==============================] - 8s 168ms/step - loss: 0.6894 - accuracy: 0.8452 - val_loss: 0.6935 - val_accuracy: 0.8450\n",
      "Epoch 55/300\n",
      "48/48 [==============================] - 6s 127ms/step - loss: 0.6679 - accuracy: 0.8501 - val_loss: 0.7193 - val_accuracy: 0.8280\n",
      "Epoch 56/300\n",
      "48/48 [==============================] - 6s 133ms/step - loss: 0.6722 - accuracy: 0.8478 - val_loss: 0.7589 - val_accuracy: 0.8410\n",
      "Epoch 57/300\n",
      "48/48 [==============================] - 8s 171ms/step - loss: 0.6530 - accuracy: 0.8523 - val_loss: 0.5791 - val_accuracy: 0.8770\n",
      "Epoch 58/300\n",
      "48/48 [==============================] - 6s 129ms/step - loss: 0.6526 - accuracy: 0.8507 - val_loss: 0.6051 - val_accuracy: 0.8590\n",
      "Epoch 59/300\n",
      "48/48 [==============================] - 6s 131ms/step - loss: 0.6491 - accuracy: 0.8522 - val_loss: 0.6823 - val_accuracy: 0.8500\n",
      "Epoch 60/300\n",
      "48/48 [==============================] - 6s 128ms/step - loss: 0.6498 - accuracy: 0.8528 - val_loss: 0.6545 - val_accuracy: 0.8540\n",
      "Epoch 61/300\n",
      "48/48 [==============================] - 6s 130ms/step - loss: 0.6479 - accuracy: 0.8513 - val_loss: 0.6581 - val_accuracy: 0.8500\n",
      "Epoch 62/300\n",
      "48/48 [==============================] - 6s 127ms/step - loss: 0.6381 - accuracy: 0.8549 - val_loss: 0.6378 - val_accuracy: 0.8580\n",
      "Epoch 63/300\n",
      "48/48 [==============================] - 6s 133ms/step - loss: 0.6344 - accuracy: 0.8550 - val_loss: 0.6497 - val_accuracy: 0.8550\n",
      "Epoch 64/300\n",
      "47/48 [============================>.] - ETA: 0s - loss: 0.6364 - accuracy: 0.8525\n",
      "Epoch 00064: ReduceLROnPlateau reducing learning rate to 0.0004900000232737511.\n",
      "48/48 [==============================] - 6s 127ms/step - loss: 0.6364 - accuracy: 0.8525 - val_loss: 0.6124 - val_accuracy: 0.8630\n",
      "Epoch 65/300\n",
      "48/48 [==============================] - 8s 171ms/step - loss: 0.5875 - accuracy: 0.8708 - val_loss: 0.5670 - val_accuracy: 0.8690\n",
      "Epoch 66/300\n",
      "48/48 [==============================] - 8s 168ms/step - loss: 0.5850 - accuracy: 0.8709 - val_loss: 0.5509 - val_accuracy: 0.8860\n",
      "Epoch 67/300\n",
      "48/48 [==============================] - 8s 168ms/step - loss: 0.5804 - accuracy: 0.8701 - val_loss: 0.5259 - val_accuracy: 0.8880\n",
      "Epoch 68/300\n",
      "48/48 [==============================] - 6s 126ms/step - loss: 0.5719 - accuracy: 0.8714 - val_loss: 0.5664 - val_accuracy: 0.8740\n",
      "Epoch 69/300\n",
      "48/48 [==============================] - 6s 131ms/step - loss: 0.5693 - accuracy: 0.8723 - val_loss: 0.5440 - val_accuracy: 0.8780\n",
      "Epoch 70/300\n",
      "48/48 [==============================] - 6s 133ms/step - loss: 0.5695 - accuracy: 0.8735 - val_loss: 0.6065 - val_accuracy: 0.8570\n",
      "Epoch 71/300\n",
      "48/48 [==============================] - 9s 179ms/step - loss: 0.5623 - accuracy: 0.8739 - val_loss: 0.5237 - val_accuracy: 0.8900\n",
      "Epoch 72/300\n",
      "48/48 [==============================] - 6s 132ms/step - loss: 0.5604 - accuracy: 0.8742 - val_loss: 0.5700 - val_accuracy: 0.8770\n",
      "Epoch 73/300\n",
      "48/48 [==============================] - 6s 130ms/step - loss: 0.5515 - accuracy: 0.8766 - val_loss: 0.5602 - val_accuracy: 0.8840\n",
      "Epoch 74/300\n",
      "48/48 [==============================] - 6s 132ms/step - loss: 0.5505 - accuracy: 0.8767 - val_loss: 0.5605 - val_accuracy: 0.8780\n",
      "Epoch 75/300\n",
      "48/48 [==============================] - 8s 170ms/step - loss: 0.5496 - accuracy: 0.8753 - val_loss: 0.5069 - val_accuracy: 0.9000\n",
      "Epoch 76/300\n",
      "48/48 [==============================] - 6s 133ms/step - loss: 0.5507 - accuracy: 0.8753 - val_loss: 0.5899 - val_accuracy: 0.8680\n",
      "Epoch 77/300\n",
      "48/48 [==============================] - 6s 133ms/step - loss: 0.5508 - accuracy: 0.8743 - val_loss: 0.5739 - val_accuracy: 0.8750\n",
      "Epoch 78/300\n",
      "48/48 [==============================] - 6s 129ms/step - loss: 0.5394 - accuracy: 0.8783 - val_loss: 0.5320 - val_accuracy: 0.8830\n",
      "Epoch 79/300\n",
      "48/48 [==============================] - 6s 131ms/step - loss: 0.5358 - accuracy: 0.8807 - val_loss: 0.5349 - val_accuracy: 0.8840\n",
      "Epoch 80/300\n",
      "48/48 [==============================] - 6s 128ms/step - loss: 0.5268 - accuracy: 0.8830 - val_loss: 0.5605 - val_accuracy: 0.8840\n",
      "Epoch 81/300\n",
      "48/48 [==============================] - 6s 131ms/step - loss: 0.5419 - accuracy: 0.8769 - val_loss: 0.5486 - val_accuracy: 0.8690\n",
      "Epoch 82/300\n",
      "47/48 [============================>.] - ETA: 0s - loss: 0.5402 - accuracy: 0.8775\n",
      "Epoch 00082: ReduceLROnPlateau reducing learning rate to 0.00034300000406801696.\n",
      "48/48 [==============================] - 6s 131ms/step - loss: 0.5406 - accuracy: 0.8773 - val_loss: 0.6202 - val_accuracy: 0.8590\n",
      "Epoch 83/300\n",
      "48/48 [==============================] - 6s 129ms/step - loss: 0.4975 - accuracy: 0.8920 - val_loss: 0.5275 - val_accuracy: 0.8890\n",
      "Epoch 84/300\n",
      "48/48 [==============================] - 6s 133ms/step - loss: 0.4959 - accuracy: 0.8914 - val_loss: 0.5252 - val_accuracy: 0.8790\n",
      "Epoch 85/300\n",
      "48/48 [==============================] - 8s 167ms/step - loss: 0.4872 - accuracy: 0.8945 - val_loss: 0.4832 - val_accuracy: 0.8980\n",
      "Epoch 86/300\n",
      "48/48 [==============================] - 8s 166ms/step - loss: 0.4811 - accuracy: 0.8966 - val_loss: 0.4494 - val_accuracy: 0.9050\n",
      "Epoch 87/300\n",
      "48/48 [==============================] - 6s 131ms/step - loss: 0.4747 - accuracy: 0.8977 - val_loss: 0.5525 - val_accuracy: 0.8850\n",
      "Epoch 88/300\n",
      "48/48 [==============================] - 8s 169ms/step - loss: 0.4811 - accuracy: 0.8939 - val_loss: 0.4456 - val_accuracy: 0.9090\n",
      "Epoch 89/300\n",
      "48/48 [==============================] - 6s 131ms/step - loss: 0.4722 - accuracy: 0.8965 - val_loss: 0.4951 - val_accuracy: 0.8930\n",
      "Epoch 90/300\n",
      "48/48 [==============================] - 6s 130ms/step - loss: 0.4729 - accuracy: 0.8969 - val_loss: 0.5196 - val_accuracy: 0.8830\n",
      "Epoch 91/300\n",
      "48/48 [==============================] - 6s 127ms/step - loss: 0.4731 - accuracy: 0.8963 - val_loss: 0.4545 - val_accuracy: 0.9020\n",
      "Epoch 92/300\n",
      "48/48 [==============================] - 6s 131ms/step - loss: 0.4692 - accuracy: 0.8975 - val_loss: 0.4553 - val_accuracy: 0.9070\n",
      "Epoch 93/300\n",
      "48/48 [==============================] - 6s 130ms/step - loss: 0.4686 - accuracy: 0.8967 - val_loss: 0.4583 - val_accuracy: 0.8990\n",
      "Epoch 94/300\n",
      "48/48 [==============================] - 6s 129ms/step - loss: 0.4629 - accuracy: 0.8966 - val_loss: 0.4971 - val_accuracy: 0.8760\n",
      "Epoch 95/300\n",
      "47/48 [============================>.] - ETA: 0s - loss: 0.4612 - accuracy: 0.8999\n",
      "Epoch 00095: ReduceLROnPlateau reducing learning rate to 0.00024009999469853935.\n",
      "48/48 [==============================] - 6s 128ms/step - loss: 0.4616 - accuracy: 0.8999 - val_loss: 0.5019 - val_accuracy: 0.8850\n",
      "Epoch 96/300\n",
      "48/48 [==============================] - 9s 178ms/step - loss: 0.4392 - accuracy: 0.9056 - val_loss: 0.4375 - val_accuracy: 0.9030\n",
      "Epoch 97/300\n",
      "48/48 [==============================] - 8s 171ms/step - loss: 0.4308 - accuracy: 0.9083 - val_loss: 0.4299 - val_accuracy: 0.9120\n",
      "Epoch 98/300\n",
      "48/48 [==============================] - 6s 131ms/step - loss: 0.4204 - accuracy: 0.9123 - val_loss: 0.4454 - val_accuracy: 0.9030\n",
      "Epoch 99/300\n",
      "48/48 [==============================] - 8s 177ms/step - loss: 0.4231 - accuracy: 0.9115 - val_loss: 0.4126 - val_accuracy: 0.9090\n",
      "Epoch 100/300\n",
      "48/48 [==============================] - 6s 131ms/step - loss: 0.4169 - accuracy: 0.9130 - val_loss: 0.4558 - val_accuracy: 0.9050\n",
      "Epoch 101/300\n",
      "48/48 [==============================] - 6s 126ms/step - loss: 0.4160 - accuracy: 0.9126 - val_loss: 0.4209 - val_accuracy: 0.9110\n",
      "Epoch 102/300\n",
      "48/48 [==============================] - 6s 132ms/step - loss: 0.4152 - accuracy: 0.9122 - val_loss: 0.4232 - val_accuracy: 0.9030\n",
      "Epoch 103/300\n",
      "48/48 [==============================] - 6s 129ms/step - loss: 0.4132 - accuracy: 0.9122 - val_loss: 0.4264 - val_accuracy: 0.9150\n",
      "Epoch 104/300\n",
      "48/48 [==============================] - 6s 131ms/step - loss: 0.4087 - accuracy: 0.9143 - val_loss: 0.4361 - val_accuracy: 0.9070\n",
      "Epoch 105/300\n",
      "48/48 [==============================] - 9s 180ms/step - loss: 0.4086 - accuracy: 0.9140 - val_loss: 0.3977 - val_accuracy: 0.9130\n",
      "Epoch 106/300\n",
      "48/48 [==============================] - 6s 127ms/step - loss: 0.4073 - accuracy: 0.9141 - val_loss: 0.4257 - val_accuracy: 0.9070\n",
      "Epoch 107/300\n",
      "48/48 [==============================] - 6s 131ms/step - loss: 0.4048 - accuracy: 0.9140 - val_loss: 0.4440 - val_accuracy: 0.9080\n",
      "Epoch 108/300\n",
      "48/48 [==============================] - 6s 129ms/step - loss: 0.4039 - accuracy: 0.9143 - val_loss: 0.4322 - val_accuracy: 0.8970\n",
      "Epoch 109/300\n"
     ]
    },
    {
     "name": "stdout",
     "output_type": "stream",
     "text": [
      "48/48 [==============================] - 6s 128ms/step - loss: 0.3998 - accuracy: 0.9170 - val_loss: 0.4477 - val_accuracy: 0.9070\n",
      "Epoch 110/300\n",
      "48/48 [==============================] - 6s 131ms/step - loss: 0.4011 - accuracy: 0.9136 - val_loss: 0.4800 - val_accuracy: 0.8970\n",
      "Epoch 111/300\n",
      "48/48 [==============================] - 6s 127ms/step - loss: 0.4090 - accuracy: 0.9122 - val_loss: 0.4194 - val_accuracy: 0.9080\n",
      "Epoch 112/300\n",
      "48/48 [==============================] - 8s 171ms/step - loss: 0.3925 - accuracy: 0.9169 - val_loss: 0.3841 - val_accuracy: 0.9240\n",
      "Epoch 113/300\n",
      "48/48 [==============================] - 6s 133ms/step - loss: 0.3902 - accuracy: 0.9193 - val_loss: 0.4149 - val_accuracy: 0.9190\n",
      "Epoch 114/300\n",
      "48/48 [==============================] - 6s 132ms/step - loss: 0.4012 - accuracy: 0.9135 - val_loss: 0.4108 - val_accuracy: 0.9260\n",
      "Epoch 115/300\n",
      "48/48 [==============================] - 6s 131ms/step - loss: 0.3926 - accuracy: 0.9166 - val_loss: 0.4416 - val_accuracy: 0.9030\n",
      "Epoch 116/300\n",
      "48/48 [==============================] - 6s 126ms/step - loss: 0.3902 - accuracy: 0.9176 - val_loss: 0.4038 - val_accuracy: 0.9090\n",
      "Epoch 117/300\n",
      "48/48 [==============================] - 6s 131ms/step - loss: 0.3852 - accuracy: 0.9207 - val_loss: 0.4120 - val_accuracy: 0.9120\n",
      "Epoch 118/300\n",
      "48/48 [==============================] - 6s 128ms/step - loss: 0.3846 - accuracy: 0.9181 - val_loss: 0.4115 - val_accuracy: 0.9120\n",
      "Epoch 119/300\n",
      "47/48 [============================>.] - ETA: 0s - loss: 0.3827 - accuracy: 0.9197\n",
      "Epoch 00119: ReduceLROnPlateau reducing learning rate to 0.00016806999628897755.\n",
      "48/48 [==============================] - 6s 132ms/step - loss: 0.3826 - accuracy: 0.9198 - val_loss: 0.3976 - val_accuracy: 0.9170\n",
      "Epoch 120/300\n",
      "48/48 [==============================] - 8s 167ms/step - loss: 0.3656 - accuracy: 0.9270 - val_loss: 0.3747 - val_accuracy: 0.9250\n",
      "Epoch 121/300\n",
      "48/48 [==============================] - 8s 167ms/step - loss: 0.3609 - accuracy: 0.9279 - val_loss: 0.3350 - val_accuracy: 0.9390\n",
      "Epoch 122/300\n",
      "48/48 [==============================] - 6s 129ms/step - loss: 0.3578 - accuracy: 0.9273 - val_loss: 0.3823 - val_accuracy: 0.9230\n",
      "Epoch 123/300\n",
      "48/48 [==============================] - 6s 131ms/step - loss: 0.3508 - accuracy: 0.9298 - val_loss: 0.3921 - val_accuracy: 0.9130\n",
      "Epoch 124/300\n",
      "48/48 [==============================] - 6s 127ms/step - loss: 0.3551 - accuracy: 0.9284 - val_loss: 0.3938 - val_accuracy: 0.9210\n",
      "Epoch 125/300\n",
      "48/48 [==============================] - 6s 128ms/step - loss: 0.3500 - accuracy: 0.9301 - val_loss: 0.3930 - val_accuracy: 0.9210\n",
      "Epoch 126/300\n",
      "48/48 [==============================] - 6s 126ms/step - loss: 0.3469 - accuracy: 0.9307 - val_loss: 0.4134 - val_accuracy: 0.9130\n",
      "Epoch 127/300\n",
      "48/48 [==============================] - 6s 131ms/step - loss: 0.3490 - accuracy: 0.9289 - val_loss: 0.3954 - val_accuracy: 0.9250\n",
      "Epoch 128/300\n",
      "47/48 [============================>.] - ETA: 0s - loss: 0.3435 - accuracy: 0.9316\n",
      "Epoch 00128: ReduceLROnPlateau reducing learning rate to 0.00011764899536501615.\n",
      "48/48 [==============================] - 6s 129ms/step - loss: 0.3435 - accuracy: 0.9316 - val_loss: 0.3593 - val_accuracy: 0.9290\n",
      "Epoch 129/300\n",
      "48/48 [==============================] - 6s 132ms/step - loss: 0.3328 - accuracy: 0.9354 - val_loss: 0.3477 - val_accuracy: 0.9200\n",
      "Epoch 130/300\n",
      "48/48 [==============================] - 6s 128ms/step - loss: 0.3250 - accuracy: 0.9378 - val_loss: 0.3805 - val_accuracy: 0.9280\n",
      "Epoch 131/300\n",
      "48/48 [==============================] - 6s 134ms/step - loss: 0.3235 - accuracy: 0.9375 - val_loss: 0.3621 - val_accuracy: 0.9270\n",
      "Epoch 132/300\n",
      "48/48 [==============================] - 6s 134ms/step - loss: 0.3253 - accuracy: 0.9372 - val_loss: 0.3571 - val_accuracy: 0.9280\n",
      "Epoch 133/300\n",
      "48/48 [==============================] - 6s 129ms/step - loss: 0.3194 - accuracy: 0.9396 - val_loss: 0.3634 - val_accuracy: 0.9290\n",
      "Epoch 134/300\n",
      "48/48 [==============================] - 6s 131ms/step - loss: 0.3192 - accuracy: 0.9377 - val_loss: 0.3753 - val_accuracy: 0.9230\n",
      "Epoch 135/300\n",
      "47/48 [============================>.] - ETA: 0s - loss: 0.3166 - accuracy: 0.9397\n",
      "Epoch 00135: ReduceLROnPlateau reducing learning rate to 8.235429777414538e-05.\n",
      "48/48 [==============================] - 6s 127ms/step - loss: 0.3169 - accuracy: 0.9396 - val_loss: 0.3764 - val_accuracy: 0.9220\n",
      "Epoch 136/300\n",
      "48/48 [==============================] - 6s 129ms/step - loss: 0.3072 - accuracy: 0.9430 - val_loss: 0.3402 - val_accuracy: 0.9310\n",
      "Epoch 137/300\n",
      "48/48 [==============================] - 6s 126ms/step - loss: 0.3025 - accuracy: 0.9432 - val_loss: 0.3429 - val_accuracy: 0.9330\n",
      "Epoch 138/300\n",
      "48/48 [==============================] - 7s 136ms/step - loss: 0.2991 - accuracy: 0.9440 - val_loss: 0.3466 - val_accuracy: 0.9250\n",
      "Epoch 139/300\n",
      "48/48 [==============================] - 6s 129ms/step - loss: 0.2991 - accuracy: 0.9444 - val_loss: 0.3570 - val_accuracy: 0.9270\n",
      "Epoch 140/300\n",
      "48/48 [==============================] - 6s 128ms/step - loss: 0.2969 - accuracy: 0.9457 - val_loss: 0.3559 - val_accuracy: 0.9240\n",
      "Epoch 141/300\n",
      "48/48 [==============================] - 6s 130ms/step - loss: 0.2962 - accuracy: 0.9455 - val_loss: 0.3382 - val_accuracy: 0.9250\n",
      "Epoch 142/300\n",
      "47/48 [============================>.] - ETA: 0s - loss: 0.2950 - accuracy: 0.9459\n",
      "Epoch 00142: ReduceLROnPlateau reducing learning rate to 5.76480058953166e-05.\n",
      "48/48 [==============================] - 6s 128ms/step - loss: 0.2951 - accuracy: 0.9458 - val_loss: 0.3573 - val_accuracy: 0.9290\n",
      "Epoch 143/300\n",
      "48/48 [==============================] - 6s 131ms/step - loss: 0.2867 - accuracy: 0.9489 - val_loss: 0.3395 - val_accuracy: 0.9340\n",
      "Epoch 144/300\n",
      "48/48 [==============================] - 6s 127ms/step - loss: 0.2839 - accuracy: 0.9492 - val_loss: 0.3552 - val_accuracy: 0.9270\n",
      "Epoch 145/300\n",
      "48/48 [==============================] - 6s 131ms/step - loss: 0.2804 - accuracy: 0.9506 - val_loss: 0.3402 - val_accuracy: 0.9300\n",
      "Epoch 146/300\n",
      "48/48 [==============================] - 6s 131ms/step - loss: 0.2828 - accuracy: 0.9498 - val_loss: 0.3387 - val_accuracy: 0.9340\n",
      "Epoch 147/300\n",
      "48/48 [==============================] - 6s 130ms/step - loss: 0.2775 - accuracy: 0.9510 - val_loss: 0.3433 - val_accuracy: 0.9340\n",
      "Epoch 148/300\n",
      "48/48 [==============================] - 6s 130ms/step - loss: 0.2797 - accuracy: 0.9507 - val_loss: 0.3358 - val_accuracy: 0.9360\n",
      "Epoch 149/300\n",
      "48/48 [==============================] - 8s 165ms/step - loss: 0.2760 - accuracy: 0.9512 - val_loss: 0.3290 - val_accuracy: 0.9370\n",
      "Epoch 150/300\n",
      "48/48 [==============================] - 6s 128ms/step - loss: 0.2783 - accuracy: 0.9506 - val_loss: 0.3317 - val_accuracy: 0.9360\n",
      "Epoch 151/300\n",
      "48/48 [==============================] - 6s 129ms/step - loss: 0.2747 - accuracy: 0.9519 - val_loss: 0.3452 - val_accuracy: 0.9340\n",
      "Epoch 152/300\n",
      "48/48 [==============================] - 6s 131ms/step - loss: 0.2756 - accuracy: 0.9508 - val_loss: 0.3371 - val_accuracy: 0.9280\n",
      "Epoch 153/300\n",
      "48/48 [==============================] - 6s 129ms/step - loss: 0.2764 - accuracy: 0.9514 - val_loss: 0.3381 - val_accuracy: 0.9300\n",
      "Epoch 154/300\n",
      "48/48 [==============================] - 8s 171ms/step - loss: 0.2732 - accuracy: 0.9518 - val_loss: 0.3259 - val_accuracy: 0.9380\n",
      "Epoch 155/300\n",
      "48/48 [==============================] - 6s 129ms/step - loss: 0.2690 - accuracy: 0.9528 - val_loss: 0.3442 - val_accuracy: 0.9260\n",
      "Epoch 156/300\n",
      "48/48 [==============================] - 6s 133ms/step - loss: 0.2706 - accuracy: 0.9530 - val_loss: 0.3291 - val_accuracy: 0.9310\n",
      "Epoch 157/300\n",
      "48/48 [==============================] - 6s 129ms/step - loss: 0.2723 - accuracy: 0.9531 - val_loss: 0.3260 - val_accuracy: 0.9360\n",
      "Epoch 158/300\n",
      "48/48 [==============================] - 6s 131ms/step - loss: 0.2668 - accuracy: 0.9540 - val_loss: 0.3316 - val_accuracy: 0.9370\n",
      "Epoch 159/300\n",
      "48/48 [==============================] - 6s 127ms/step - loss: 0.2671 - accuracy: 0.9532 - val_loss: 0.3387 - val_accuracy: 0.9280\n",
      "Epoch 160/300\n",
      "48/48 [==============================] - 6s 130ms/step - loss: 0.2639 - accuracy: 0.9550 - val_loss: 0.3474 - val_accuracy: 0.9280\n",
      "Epoch 161/300\n"
     ]
    },
    {
     "name": "stdout",
     "output_type": "stream",
     "text": [
      "47/48 [============================>.] - ETA: 0s - loss: 0.2650 - accuracy: 0.9540\n",
      "Epoch 00161: ReduceLROnPlateau reducing learning rate to 4.0353603617404586e-05.\n",
      "48/48 [==============================] - 6s 128ms/step - loss: 0.2647 - accuracy: 0.9541 - val_loss: 0.3353 - val_accuracy: 0.9300\n",
      "Epoch 162/300\n",
      "48/48 [==============================] - 6s 135ms/step - loss: 0.2613 - accuracy: 0.9555 - val_loss: 0.3312 - val_accuracy: 0.9300\n",
      "Epoch 163/300\n",
      "48/48 [==============================] - 6s 129ms/step - loss: 0.2552 - accuracy: 0.9570 - val_loss: 0.3290 - val_accuracy: 0.9340\n",
      "Epoch 164/300\n",
      "48/48 [==============================] - 6s 127ms/step - loss: 0.2538 - accuracy: 0.9575 - val_loss: 0.3523 - val_accuracy: 0.9320\n",
      "Epoch 165/300\n",
      "48/48 [==============================] - 6s 132ms/step - loss: 0.2558 - accuracy: 0.9572 - val_loss: 0.3564 - val_accuracy: 0.9270\n",
      "Epoch 166/300\n",
      "48/48 [==============================] - 6s 127ms/step - loss: 0.2537 - accuracy: 0.9569 - val_loss: 0.3379 - val_accuracy: 0.9410\n",
      "Epoch 167/300\n",
      "48/48 [==============================] - 6s 134ms/step - loss: 0.2558 - accuracy: 0.9567 - val_loss: 0.3598 - val_accuracy: 0.9320\n",
      "Epoch 168/300\n",
      "48/48 [==============================] - 8s 173ms/step - loss: 0.2516 - accuracy: 0.9581 - val_loss: 0.3229 - val_accuracy: 0.9360\n",
      "Epoch 169/300\n",
      "48/48 [==============================] - 6s 129ms/step - loss: 0.2560 - accuracy: 0.9558 - val_loss: 0.3324 - val_accuracy: 0.9360\n",
      "Epoch 170/300\n",
      "48/48 [==============================] - 6s 131ms/step - loss: 0.2509 - accuracy: 0.9578 - val_loss: 0.3480 - val_accuracy: 0.9330\n",
      "Epoch 171/300\n",
      "48/48 [==============================] - 6s 128ms/step - loss: 0.2525 - accuracy: 0.9577 - val_loss: 0.3405 - val_accuracy: 0.9370\n",
      "Epoch 172/300\n",
      "48/48 [==============================] - 6s 132ms/step - loss: 0.2515 - accuracy: 0.9585 - val_loss: 0.3544 - val_accuracy: 0.9320\n",
      "Epoch 173/300\n",
      "48/48 [==============================] - 6s 131ms/step - loss: 0.2502 - accuracy: 0.9578 - val_loss: 0.3564 - val_accuracy: 0.9260\n",
      "Epoch 174/300\n",
      "48/48 [==============================] - 6s 132ms/step - loss: 0.2510 - accuracy: 0.9582 - val_loss: 0.3354 - val_accuracy: 0.9380\n",
      "Epoch 175/300\n",
      "47/48 [============================>.] - ETA: 0s - loss: 0.2510 - accuracy: 0.9587\n",
      "Epoch 00175: ReduceLROnPlateau reducing learning rate to 2.8247522277524694e-05.\n",
      "48/48 [==============================] - 6s 130ms/step - loss: 0.2506 - accuracy: 0.9587 - val_loss: 0.3356 - val_accuracy: 0.9320\n",
      "Epoch 176/300\n",
      "48/48 [==============================] - 6s 129ms/step - loss: 0.2468 - accuracy: 0.9596 - val_loss: 0.3400 - val_accuracy: 0.9360\n",
      "Epoch 177/300\n",
      "48/48 [==============================] - 6s 134ms/step - loss: 0.2425 - accuracy: 0.9617 - val_loss: 0.3375 - val_accuracy: 0.9370\n",
      "Epoch 178/300\n",
      "48/48 [==============================] - 6s 126ms/step - loss: 0.2403 - accuracy: 0.9620 - val_loss: 0.3364 - val_accuracy: 0.9370\n",
      "Epoch 179/300\n",
      "48/48 [==============================] - 6s 132ms/step - loss: 0.2417 - accuracy: 0.9619 - val_loss: 0.3434 - val_accuracy: 0.9350\n",
      "Epoch 180/300\n",
      "48/48 [==============================] - 6s 127ms/step - loss: 0.2417 - accuracy: 0.9614 - val_loss: 0.3488 - val_accuracy: 0.9370\n",
      "Epoch 181/300\n",
      "48/48 [==============================] - 6s 130ms/step - loss: 0.2405 - accuracy: 0.9620 - val_loss: 0.3470 - val_accuracy: 0.9360\n",
      "Epoch 182/300\n",
      "47/48 [============================>.] - ETA: 0s - loss: 0.2403 - accuracy: 0.9619\n",
      "Epoch 00182: ReduceLROnPlateau reducing learning rate to 1.977326610358432e-05.\n",
      "48/48 [==============================] - 6s 131ms/step - loss: 0.2401 - accuracy: 0.9620 - val_loss: 0.3388 - val_accuracy: 0.9380\n",
      "Epoch 183/300\n",
      "48/48 [==============================] - 6s 128ms/step - loss: 0.2407 - accuracy: 0.9620 - val_loss: 0.3414 - val_accuracy: 0.9380\n",
      "Epoch 184/300\n",
      "48/48 [==============================] - 6s 130ms/step - loss: 0.2413 - accuracy: 0.9608 - val_loss: 0.3319 - val_accuracy: 0.9390\n",
      "Epoch 185/300\n",
      "48/48 [==============================] - 6s 128ms/step - loss: 0.2350 - accuracy: 0.9641 - val_loss: 0.3401 - val_accuracy: 0.9340\n",
      "Epoch 186/300\n",
      "48/48 [==============================] - 6s 134ms/step - loss: 0.2356 - accuracy: 0.9629 - val_loss: 0.3419 - val_accuracy: 0.9370\n",
      "Epoch 187/300\n",
      "48/48 [==============================] - 6s 129ms/step - loss: 0.2378 - accuracy: 0.9626 - val_loss: 0.3353 - val_accuracy: 0.9390\n",
      "Epoch 188/300\n",
      "48/48 [==============================] - 6s 132ms/step - loss: 0.2342 - accuracy: 0.9629 - val_loss: 0.3361 - val_accuracy: 0.9370\n",
      "Epoch 189/300\n",
      "47/48 [============================>.] - ETA: 0s - loss: 0.2323 - accuracy: 0.9638\n",
      "Epoch 00189: ReduceLROnPlateau reducing learning rate to 1.3841286272509023e-05.\n",
      "48/48 [==============================] - 6s 128ms/step - loss: 0.2322 - accuracy: 0.9639 - val_loss: 0.3495 - val_accuracy: 0.9320\n",
      "Epoch 190/300\n",
      "48/48 [==============================] - 6s 131ms/step - loss: 0.2320 - accuracy: 0.9645 - val_loss: 0.3425 - val_accuracy: 0.9380\n",
      "Epoch 191/300\n",
      "48/48 [==============================] - 6s 133ms/step - loss: 0.2363 - accuracy: 0.9623 - val_loss: 0.3416 - val_accuracy: 0.9380\n",
      "Epoch 192/300\n",
      "48/48 [==============================] - 6s 129ms/step - loss: 0.2338 - accuracy: 0.9635 - val_loss: 0.3420 - val_accuracy: 0.9370\n",
      "Epoch 193/300\n",
      "48/48 [==============================] - 6s 131ms/step - loss: 0.2296 - accuracy: 0.9647 - val_loss: 0.3371 - val_accuracy: 0.9400\n",
      "Epoch 194/300\n",
      "48/48 [==============================] - 6s 129ms/step - loss: 0.2309 - accuracy: 0.9649 - val_loss: 0.3376 - val_accuracy: 0.9400\n",
      "Epoch 195/300\n",
      "48/48 [==============================] - 6s 130ms/step - loss: 0.2277 - accuracy: 0.9652 - val_loss: 0.3456 - val_accuracy: 0.9360\n",
      "Epoch 196/300\n",
      "47/48 [============================>.] - ETA: 0s - loss: 0.2315 - accuracy: 0.9649\n",
      "Epoch 00196: ReduceLROnPlateau reducing learning rate to 9.688900263427058e-06.\n",
      "48/48 [==============================] - 6s 128ms/step - loss: 0.2312 - accuracy: 0.9649 - val_loss: 0.3392 - val_accuracy: 0.9390\n",
      "Epoch 197/300\n",
      "48/48 [==============================] - 6s 132ms/step - loss: 0.2289 - accuracy: 0.9649 - val_loss: 0.3437 - val_accuracy: 0.9370\n",
      "Epoch 198/300\n",
      "48/48 [==============================] - 6s 130ms/step - loss: 0.2278 - accuracy: 0.9653 - val_loss: 0.3429 - val_accuracy: 0.9390\n",
      "Epoch 199/300\n",
      "48/48 [==============================] - 6s 127ms/step - loss: 0.2283 - accuracy: 0.9662 - val_loss: 0.3409 - val_accuracy: 0.9370\n",
      "Epoch 200/300\n",
      "48/48 [==============================] - 6s 132ms/step - loss: 0.2300 - accuracy: 0.9645 - val_loss: 0.3441 - val_accuracy: 0.9380\n",
      "Epoch 201/300\n",
      "48/48 [==============================] - 6s 132ms/step - loss: 0.2267 - accuracy: 0.9662 - val_loss: 0.3425 - val_accuracy: 0.9350\n",
      "Epoch 202/300\n",
      "48/48 [==============================] - 6s 130ms/step - loss: 0.2277 - accuracy: 0.9660 - val_loss: 0.3414 - val_accuracy: 0.9340\n",
      "Epoch 203/300\n",
      "47/48 [============================>.] - ETA: 0s - loss: 0.2291 - accuracy: 0.9649\n",
      "Epoch 00203: ReduceLROnPlateau reducing learning rate to 6.782229866075795e-06.\n",
      "48/48 [==============================] - 6s 129ms/step - loss: 0.2286 - accuracy: 0.9651 - val_loss: 0.3413 - val_accuracy: 0.9370\n",
      "Epoch 204/300\n",
      "48/48 [==============================] - 6s 131ms/step - loss: 0.2266 - accuracy: 0.9661 - val_loss: 0.3387 - val_accuracy: 0.9360\n",
      "Epoch 205/300\n",
      "48/48 [==============================] - 6s 129ms/step - loss: 0.2252 - accuracy: 0.9657 - val_loss: 0.3481 - val_accuracy: 0.9320\n",
      "Epoch 206/300\n",
      "48/48 [==============================] - 6s 129ms/step - loss: 0.2233 - accuracy: 0.9667 - val_loss: 0.3460 - val_accuracy: 0.9330\n",
      "Epoch 207/300\n",
      "48/48 [==============================] - 6s 133ms/step - loss: 0.2261 - accuracy: 0.9660 - val_loss: 0.3465 - val_accuracy: 0.9360\n",
      "Epoch 208/300\n",
      "48/48 [==============================] - 6s 128ms/step - loss: 0.2224 - accuracy: 0.9668 - val_loss: 0.3439 - val_accuracy: 0.9360\n",
      "Epoch 209/300\n",
      "48/48 [==============================] - 6s 130ms/step - loss: 0.2266 - accuracy: 0.9662 - val_loss: 0.3450 - val_accuracy: 0.9330\n",
      "Epoch 210/300\n",
      "47/48 [============================>.] - ETA: 0s - loss: 0.2238 - accuracy: 0.9667\n",
      "Epoch 00210: ReduceLROnPlateau reducing learning rate to 4.747560842588427e-06.\n",
      "48/48 [==============================] - 6s 130ms/step - loss: 0.2236 - accuracy: 0.9668 - val_loss: 0.3519 - val_accuracy: 0.9340\n"
     ]
    },
    {
     "name": "stdout",
     "output_type": "stream",
     "text": [
      "Epoch 211/300\n",
      "48/48 [==============================] - 6s 132ms/step - loss: 0.2264 - accuracy: 0.9656 - val_loss: 0.3450 - val_accuracy: 0.9330\n",
      "Epoch 212/300\n",
      "48/48 [==============================] - 6s 130ms/step - loss: 0.2240 - accuracy: 0.9668 - val_loss: 0.3436 - val_accuracy: 0.9350\n",
      "Epoch 213/300\n",
      "48/48 [==============================] - 6s 133ms/step - loss: 0.2242 - accuracy: 0.9664 - val_loss: 0.3478 - val_accuracy: 0.9350\n",
      "Epoch 214/300\n",
      "48/48 [==============================] - 6s 134ms/step - loss: 0.2238 - accuracy: 0.9669 - val_loss: 0.3485 - val_accuracy: 0.9310\n",
      "Epoch 215/300\n",
      "48/48 [==============================] - 6s 128ms/step - loss: 0.2195 - accuracy: 0.9693 - val_loss: 0.3479 - val_accuracy: 0.9390\n",
      "Epoch 216/300\n",
      "48/48 [==============================] - 6s 129ms/step - loss: 0.2217 - accuracy: 0.9675 - val_loss: 0.3460 - val_accuracy: 0.9360\n",
      "Epoch 217/300\n",
      "47/48 [============================>.] - ETA: 0s - loss: 0.2241 - accuracy: 0.9668\n",
      "Epoch 00217: ReduceLROnPlateau reducing learning rate to 3.3232926853088427e-06.\n",
      "48/48 [==============================] - 6s 130ms/step - loss: 0.2241 - accuracy: 0.9668 - val_loss: 0.3472 - val_accuracy: 0.9370\n",
      "Epoch 218/300\n",
      "48/48 [==============================] - 6s 134ms/step - loss: 0.2240 - accuracy: 0.9672 - val_loss: 0.3445 - val_accuracy: 0.9360\n",
      "Epoch 219/300\n",
      "48/48 [==============================] - 6s 130ms/step - loss: 0.2244 - accuracy: 0.9672 - val_loss: 0.3430 - val_accuracy: 0.9360\n",
      "Epoch 220/300\n",
      "48/48 [==============================] - 6s 128ms/step - loss: 0.2225 - accuracy: 0.9670 - val_loss: 0.3465 - val_accuracy: 0.9360\n",
      "Epoch 221/300\n",
      "48/48 [==============================] - 6s 131ms/step - loss: 0.2233 - accuracy: 0.9674 - val_loss: 0.3446 - val_accuracy: 0.9360\n",
      "Epoch 222/300\n",
      "48/48 [==============================] - 6s 131ms/step - loss: 0.2219 - accuracy: 0.9675 - val_loss: 0.3463 - val_accuracy: 0.9370\n",
      "Epoch 223/300\n",
      "48/48 [==============================] - 6s 131ms/step - loss: 0.2223 - accuracy: 0.9676 - val_loss: 0.3446 - val_accuracy: 0.9360\n",
      "Epoch 224/300\n",
      "47/48 [============================>.] - ETA: 0s - loss: 0.2217 - accuracy: 0.9671\n",
      "Epoch 00224: ReduceLROnPlateau reducing learning rate to 2.3263049115485044e-06.\n",
      "48/48 [==============================] - 6s 128ms/step - loss: 0.2213 - accuracy: 0.9671 - val_loss: 0.3427 - val_accuracy: 0.9370\n",
      "Epoch 225/300\n",
      "48/48 [==============================] - 6s 131ms/step - loss: 0.2237 - accuracy: 0.9671 - val_loss: 0.3428 - val_accuracy: 0.9360\n",
      "Epoch 226/300\n",
      "48/48 [==============================] - 6s 129ms/step - loss: 0.2224 - accuracy: 0.9670 - val_loss: 0.3440 - val_accuracy: 0.9340\n",
      "Epoch 227/300\n",
      "48/48 [==============================] - 6s 129ms/step - loss: 0.2241 - accuracy: 0.9671 - val_loss: 0.3465 - val_accuracy: 0.9350\n",
      "Epoch 228/300\n",
      "48/48 [==============================] - 6s 133ms/step - loss: 0.2198 - accuracy: 0.9686 - val_loss: 0.3428 - val_accuracy: 0.9380\n",
      "Epoch 229/300\n",
      "48/48 [==============================] - 6s 127ms/step - loss: 0.2234 - accuracy: 0.9679 - val_loss: 0.3451 - val_accuracy: 0.9360\n",
      "Epoch 230/300\n",
      "48/48 [==============================] - 6s 131ms/step - loss: 0.2221 - accuracy: 0.9668 - val_loss: 0.3468 - val_accuracy: 0.9390\n",
      "Epoch 231/300\n",
      "47/48 [============================>.] - ETA: 0s - loss: 0.2216 - accuracy: 0.9673\n",
      "Epoch 00231: ReduceLROnPlateau reducing learning rate to 1.6284134062516385e-06.\n",
      "48/48 [==============================] - 6s 130ms/step - loss: 0.2224 - accuracy: 0.9672 - val_loss: 0.3451 - val_accuracy: 0.9350\n",
      "Epoch 232/300\n",
      "48/48 [==============================] - 6s 134ms/step - loss: 0.2217 - accuracy: 0.9681 - val_loss: 0.3457 - val_accuracy: 0.9360\n",
      "Epoch 233/300\n",
      "48/48 [==============================] - 6s 130ms/step - loss: 0.2228 - accuracy: 0.9671 - val_loss: 0.3493 - val_accuracy: 0.9360\n",
      "Epoch 234/300\n",
      "48/48 [==============================] - 6s 132ms/step - loss: 0.2205 - accuracy: 0.9676 - val_loss: 0.3492 - val_accuracy: 0.9360\n",
      "Epoch 235/300\n",
      "48/48 [==============================] - 6s 132ms/step - loss: 0.2224 - accuracy: 0.9670 - val_loss: 0.3501 - val_accuracy: 0.9360\n",
      "Epoch 236/300\n",
      "48/48 [==============================] - 6s 132ms/step - loss: 0.2178 - accuracy: 0.9686 - val_loss: 0.3494 - val_accuracy: 0.9370\n",
      "Epoch 237/300\n",
      "48/48 [==============================] - 6s 133ms/step - loss: 0.2235 - accuracy: 0.9670 - val_loss: 0.3493 - val_accuracy: 0.9370\n",
      "Epoch 238/300\n",
      "47/48 [============================>.] - ETA: 0s - loss: 0.2223 - accuracy: 0.9673\n",
      "Epoch 00238: ReduceLROnPlateau reducing learning rate to 1.1398894002923043e-06.\n",
      "48/48 [==============================] - 6s 131ms/step - loss: 0.2222 - accuracy: 0.9674 - val_loss: 0.3523 - val_accuracy: 0.9370\n",
      "Epoch 239/300\n",
      "48/48 [==============================] - 6s 128ms/step - loss: 0.2212 - accuracy: 0.9675 - val_loss: 0.3496 - val_accuracy: 0.9350\n",
      "Epoch 240/300\n",
      "48/48 [==============================] - 6s 130ms/step - loss: 0.2214 - accuracy: 0.9677 - val_loss: 0.3484 - val_accuracy: 0.9370\n",
      "Epoch 241/300\n",
      "48/48 [==============================] - 6s 132ms/step - loss: 0.2226 - accuracy: 0.9668 - val_loss: 0.3481 - val_accuracy: 0.9370\n",
      "Epoch 242/300\n",
      "48/48 [==============================] - 6s 131ms/step - loss: 0.2206 - accuracy: 0.9670 - val_loss: 0.3487 - val_accuracy: 0.9380\n",
      "Epoch 243/300\n",
      "48/48 [==============================] - 6s 130ms/step - loss: 0.2194 - accuracy: 0.9686 - val_loss: 0.3499 - val_accuracy: 0.9360\n",
      "Epoch 244/300\n",
      "48/48 [==============================] - 6s 132ms/step - loss: 0.2203 - accuracy: 0.9672 - val_loss: 0.3474 - val_accuracy: 0.9370\n",
      "Epoch 245/300\n",
      "47/48 [============================>.] - ETA: 0s - loss: 0.2215 - accuracy: 0.9672\n",
      "Epoch 00245: ReduceLROnPlateau reducing learning rate to 1e-06.\n",
      "48/48 [==============================] - 6s 128ms/step - loss: 0.2211 - accuracy: 0.9674 - val_loss: 0.3476 - val_accuracy: 0.9380\n",
      "Epoch 246/300\n",
      "48/48 [==============================] - 6s 134ms/step - loss: 0.2187 - accuracy: 0.9689 - val_loss: 0.3479 - val_accuracy: 0.9370\n",
      "Epoch 247/300\n",
      "48/48 [==============================] - 6s 131ms/step - loss: 0.2200 - accuracy: 0.9680 - val_loss: 0.3480 - val_accuracy: 0.9370\n",
      "Epoch 248/300\n",
      "48/48 [==============================] - 6s 131ms/step - loss: 0.2199 - accuracy: 0.9672 - val_loss: 0.3487 - val_accuracy: 0.9370\n",
      "Epoch 249/300\n",
      "48/48 [==============================] - 6s 132ms/step - loss: 0.2199 - accuracy: 0.9674 - val_loss: 0.3483 - val_accuracy: 0.9340\n",
      "Epoch 250/300\n",
      "48/48 [==============================] - 6s 130ms/step - loss: 0.2201 - accuracy: 0.9674 - val_loss: 0.3471 - val_accuracy: 0.9370\n",
      "Epoch 251/300\n",
      "48/48 [==============================] - 6s 132ms/step - loss: 0.2200 - accuracy: 0.9678 - val_loss: 0.3477 - val_accuracy: 0.9360\n",
      "Epoch 252/300\n",
      "48/48 [==============================] - 6s 131ms/step - loss: 0.2185 - accuracy: 0.9682 - val_loss: 0.3503 - val_accuracy: 0.9340\n",
      "Epoch 253/300\n",
      "48/48 [==============================] - 6s 133ms/step - loss: 0.2217 - accuracy: 0.9676 - val_loss: 0.3488 - val_accuracy: 0.9360\n",
      "Epoch 254/300\n",
      "48/48 [==============================] - 6s 134ms/step - loss: 0.2203 - accuracy: 0.9679 - val_loss: 0.3474 - val_accuracy: 0.9350\n",
      "Epoch 255/300\n",
      "48/48 [==============================] - 6s 134ms/step - loss: 0.2213 - accuracy: 0.9668 - val_loss: 0.3469 - val_accuracy: 0.9350\n",
      "Epoch 256/300\n",
      "48/48 [==============================] - 6s 130ms/step - loss: 0.2204 - accuracy: 0.9677 - val_loss: 0.3474 - val_accuracy: 0.9340\n",
      "Epoch 257/300\n",
      "48/48 [==============================] - 6s 129ms/step - loss: 0.2223 - accuracy: 0.9672 - val_loss: 0.3466 - val_accuracy: 0.9380\n",
      "Epoch 258/300\n",
      "48/48 [==============================] - 6s 131ms/step - loss: 0.2200 - accuracy: 0.9685 - val_loss: 0.3468 - val_accuracy: 0.9360\n",
      "Epoch 259/300\n",
      "48/48 [==============================] - 6s 128ms/step - loss: 0.2214 - accuracy: 0.9681 - val_loss: 0.3460 - val_accuracy: 0.9370\n",
      "Epoch 260/300\n",
      "48/48 [==============================] - 6s 132ms/step - loss: 0.2215 - accuracy: 0.9676 - val_loss: 0.3456 - val_accuracy: 0.9360\n",
      "Epoch 261/300\n",
      "48/48 [==============================] - 6s 130ms/step - loss: 0.2198 - accuracy: 0.9680 - val_loss: 0.3459 - val_accuracy: 0.9360\n"
     ]
    },
    {
     "name": "stdout",
     "output_type": "stream",
     "text": [
      "Epoch 262/300\n",
      "48/48 [==============================] - 6s 130ms/step - loss: 0.2178 - accuracy: 0.9686 - val_loss: 0.3463 - val_accuracy: 0.9360\n",
      "Epoch 263/300\n",
      "48/48 [==============================] - 6s 130ms/step - loss: 0.2201 - accuracy: 0.9689 - val_loss: 0.3453 - val_accuracy: 0.9370\n",
      "Epoch 264/300\n",
      "48/48 [==============================] - 6s 129ms/step - loss: 0.2210 - accuracy: 0.9672 - val_loss: 0.3469 - val_accuracy: 0.9370\n",
      "Epoch 265/300\n",
      "48/48 [==============================] - 6s 133ms/step - loss: 0.2219 - accuracy: 0.9669 - val_loss: 0.3465 - val_accuracy: 0.9390\n",
      "Epoch 266/300\n",
      "48/48 [==============================] - 6s 131ms/step - loss: 0.2149 - accuracy: 0.9695 - val_loss: 0.3485 - val_accuracy: 0.9370\n",
      "Epoch 267/300\n",
      "48/48 [==============================] - 6s 134ms/step - loss: 0.2229 - accuracy: 0.9671 - val_loss: 0.3460 - val_accuracy: 0.9350\n",
      "Epoch 268/300\n",
      "48/48 [==============================] - 6s 129ms/step - loss: 0.2188 - accuracy: 0.9682 - val_loss: 0.3458 - val_accuracy: 0.9360\n",
      "Epoch 269/300\n",
      "48/48 [==============================] - 6s 128ms/step - loss: 0.2194 - accuracy: 0.9681 - val_loss: 0.3453 - val_accuracy: 0.9340\n",
      "Epoch 270/300\n",
      "48/48 [==============================] - 7s 137ms/step - loss: 0.2212 - accuracy: 0.9668 - val_loss: 0.3465 - val_accuracy: 0.9360\n",
      "Epoch 271/300\n",
      "48/48 [==============================] - 6s 130ms/step - loss: 0.2203 - accuracy: 0.9672 - val_loss: 0.3464 - val_accuracy: 0.9390\n",
      "Epoch 272/300\n",
      "48/48 [==============================] - 6s 131ms/step - loss: 0.2210 - accuracy: 0.9684 - val_loss: 0.3484 - val_accuracy: 0.9380\n",
      "Epoch 273/300\n",
      "48/48 [==============================] - 6s 128ms/step - loss: 0.2180 - accuracy: 0.9681 - val_loss: 0.3482 - val_accuracy: 0.9370\n",
      "Epoch 274/300\n",
      "48/48 [==============================] - 6s 132ms/step - loss: 0.2207 - accuracy: 0.9686 - val_loss: 0.3502 - val_accuracy: 0.9360\n",
      "Epoch 275/300\n",
      "48/48 [==============================] - 6s 132ms/step - loss: 0.2170 - accuracy: 0.9692 - val_loss: 0.3470 - val_accuracy: 0.9350\n",
      "Epoch 276/300\n",
      "48/48 [==============================] - 6s 131ms/step - loss: 0.2193 - accuracy: 0.9676 - val_loss: 0.3466 - val_accuracy: 0.9340\n",
      "Epoch 277/300\n",
      "48/48 [==============================] - 6s 130ms/step - loss: 0.2173 - accuracy: 0.9686 - val_loss: 0.3476 - val_accuracy: 0.9340\n",
      "Epoch 278/300\n",
      "48/48 [==============================] - 6s 128ms/step - loss: 0.2187 - accuracy: 0.9680 - val_loss: 0.3491 - val_accuracy: 0.9340\n",
      "Epoch 279/300\n",
      "48/48 [==============================] - 6s 132ms/step - loss: 0.2202 - accuracy: 0.9689 - val_loss: 0.3489 - val_accuracy: 0.9360\n",
      "Epoch 280/300\n",
      "48/48 [==============================] - 6s 129ms/step - loss: 0.2184 - accuracy: 0.9684 - val_loss: 0.3479 - val_accuracy: 0.9350\n",
      "Epoch 281/300\n",
      "48/48 [==============================] - 7s 136ms/step - loss: 0.2201 - accuracy: 0.9685 - val_loss: 0.3487 - val_accuracy: 0.9330\n",
      "Epoch 282/300\n",
      "48/48 [==============================] - 6s 132ms/step - loss: 0.2158 - accuracy: 0.9697 - val_loss: 0.3462 - val_accuracy: 0.9350\n",
      "Epoch 283/300\n",
      "48/48 [==============================] - 6s 128ms/step - loss: 0.2189 - accuracy: 0.9687 - val_loss: 0.3442 - val_accuracy: 0.9350\n",
      "Epoch 284/300\n",
      "48/48 [==============================] - 6s 131ms/step - loss: 0.2247 - accuracy: 0.9671 - val_loss: 0.3453 - val_accuracy: 0.9350\n",
      "Epoch 285/300\n",
      "48/48 [==============================] - 6s 128ms/step - loss: 0.2190 - accuracy: 0.9680 - val_loss: 0.3449 - val_accuracy: 0.9340\n",
      "Epoch 286/300\n",
      "48/48 [==============================] - 6s 133ms/step - loss: 0.2175 - accuracy: 0.9692 - val_loss: 0.3449 - val_accuracy: 0.9360\n",
      "Epoch 287/300\n",
      "48/48 [==============================] - 6s 130ms/step - loss: 0.2203 - accuracy: 0.9674 - val_loss: 0.3453 - val_accuracy: 0.9340\n",
      "Epoch 288/300\n",
      "48/48 [==============================] - 6s 132ms/step - loss: 0.2185 - accuracy: 0.9689 - val_loss: 0.3453 - val_accuracy: 0.9340\n",
      "Epoch 289/300\n",
      "48/48 [==============================] - 6s 130ms/step - loss: 0.2183 - accuracy: 0.9692 - val_loss: 0.3445 - val_accuracy: 0.9330\n",
      "Epoch 290/300\n",
      "48/48 [==============================] - 6s 128ms/step - loss: 0.2201 - accuracy: 0.9682 - val_loss: 0.3455 - val_accuracy: 0.9340\n",
      "Epoch 291/300\n",
      "48/48 [==============================] - 6s 130ms/step - loss: 0.2185 - accuracy: 0.9683 - val_loss: 0.3449 - val_accuracy: 0.9350\n",
      "Epoch 292/300\n",
      "48/48 [==============================] - 6s 127ms/step - loss: 0.2173 - accuracy: 0.9687 - val_loss: 0.3459 - val_accuracy: 0.9340\n",
      "Epoch 293/300\n",
      "48/48 [==============================] - 6s 130ms/step - loss: 0.2199 - accuracy: 0.9678 - val_loss: 0.3450 - val_accuracy: 0.9350\n",
      "Epoch 294/300\n",
      "48/48 [==============================] - 6s 128ms/step - loss: 0.2186 - accuracy: 0.9692 - val_loss: 0.3470 - val_accuracy: 0.9350\n",
      "Epoch 295/300\n",
      "48/48 [==============================] - 6s 130ms/step - loss: 0.2179 - accuracy: 0.9681 - val_loss: 0.3479 - val_accuracy: 0.9340\n",
      "Epoch 296/300\n",
      "48/48 [==============================] - 6s 129ms/step - loss: 0.2204 - accuracy: 0.9680 - val_loss: 0.3477 - val_accuracy: 0.9350\n",
      "Epoch 297/300\n",
      "48/48 [==============================] - 6s 133ms/step - loss: 0.2192 - accuracy: 0.9676 - val_loss: 0.3459 - val_accuracy: 0.9340\n",
      "Epoch 298/300\n",
      "48/48 [==============================] - 6s 131ms/step - loss: 0.2174 - accuracy: 0.9691 - val_loss: 0.3464 - val_accuracy: 0.9370\n",
      "Epoch 299/300\n",
      "48/48 [==============================] - 6s 130ms/step - loss: 0.2189 - accuracy: 0.9678 - val_loss: 0.3456 - val_accuracy: 0.9370\n",
      "Epoch 300/300\n",
      "48/48 [==============================] - 6s 134ms/step - loss: 0.2224 - accuracy: 0.9674 - val_loss: 0.3456 - val_accuracy: 0.9380\n"
     ]
    }
   ],
   "source": [
    "history = model.fit(augmented_train_batches, epochs=300, validation_data=validation_batches, callbacks=[lrr, mcp])"
   ]
  },
  {
   "cell_type": "code",
   "execution_count": 40,
   "metadata": {},
   "outputs": [
    {
     "data": {
      "image/png": "[encoded data removed]",
      "text/plain": [
       "<Figure size 432x288 with 1 Axes>"
      ]
     },
     "metadata": {
      "needs_background": "light"
     },
     "output_type": "display_data"
    },
    {
     "data": {
      "image/png": "[encoded data removed]",
      "text/plain": [
       "<Figure size 432x288 with 1 Axes>"
      ]
     },
     "metadata": {
      "needs_background": "light"
     },
     "output_type": "display_data"
    }
   ],
   "source": [
    "plt.plot(history.history['accuracy'])\n",
    "plt.plot(history.history['val_accuracy'])\n",
    "plt.title('model accuracy')\n",
    "plt.ylabel('accuracy')\n",
    "plt.xlabel('epoch')\n",
    "plt.legend(['train', 'test', 'learning rate'], loc='upper left')\n",
    "plt.show()\n",
    "\n",
    "plt.plot(np.array(history.history['loss']).clip(max=2))\n",
    "plt.plot(np.array(history.history['val_loss']).clip(max=2))\n",
    "plt.title('model loss')\n",
    "plt.ylabel('loss')\n",
    "plt.xlabel('epoch')\n",
    "plt.legend(['train', 'test'], loc='upper left')\n",
    "plt.show()"
   ]
  },
  {
   "cell_type": "code",
   "execution_count": 41,
   "metadata": {},
   "outputs": [
    {
     "name": "stdout",
     "output_type": "stream",
     "text": [
      "10000/10000 [==============================] - 27s 3ms/sample - loss: 0.3924 - accuracy: 0.9380\n"
     ]
    },
    {
     "data": {
      "text/plain": [
       "[0.39239298560619357, 0.93799996]"
      ]
     },
     "execution_count": 41,
     "metadata": {},
     "output_type": "execute_result"
    }
   ],
   "source": [
    "model.evaluate(X_test, y_test)"
   ]
  }
 ],
 "metadata": {
  "kernelspec": {
   "display_name": "Python 3",
   "language": "python",
   "name": "python3"
  },
  "language_info": {
   "codemirror_mode": {
    "name": "ipython",
    "version": 3
   },
   "file_extension": ".py",
   "mimetype": "text/x-python",
   "name": "python",
   "nbconvert_exporter": "python",
   "pygments_lexer": "ipython3",
   "version": "3.7.3"
  }
 },
 "nbformat": 4,
 "nbformat_minor": 4
}
